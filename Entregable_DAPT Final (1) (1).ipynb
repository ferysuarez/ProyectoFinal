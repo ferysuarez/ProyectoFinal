{
 "cells": [
  {
   "cell_type": "markdown",
   "id": "6887a525-d4de-4dbc-b3ba-f27a7d0179ab",
   "metadata": {},
   "source": [
    "## Group exercises"
   ]
  },
  {
   "cell_type": "markdown",
   "id": "c822e4d2-aa60-4a8f-81dd-fbee376bbfba",
   "metadata": {},
   "source": [
    "#### 1. Prime factors of a number"
   ]
  },
  {
   "cell_type": "code",
   "execution_count": null,
   "id": "f496a8cf-bc2e-4b64-9050-ef1c1317f1a8",
   "metadata": {},
   "outputs": [],
   "source": [
    "def prime_factors2(number):\n",
    "    \"\"\"Function which gives the prime factors of a given number\n",
    "    \n",
    "    Args:\n",
    "        number (int): Number from which we are going to extract its prime factors\n",
    "        \n",
    "    Returns:\n",
    "        List: List which contains the different prime factors of the number previously given\n",
    "        \n",
    "    \"\"\"\n",
    "    lista=[]\n",
    "    for i in range(2,number+1):\n",
    "        while number  % i ==0:\n",
    "            number=number/i\n",
    "            lista.append(i)\n",
    "        else:\n",
    "            continue\n",
    "    return set(lista)"
   ]
  },
  {
   "cell_type": "code",
   "execution_count": null,
   "id": "ffc1b266-8a83-4faa-a627-9e934473a5af",
   "metadata": {},
   "outputs": [],
   "source": [
    "number=int(input(\"Enter a number\"))\n",
    "prime_factors2(number)"
   ]
  },
  {
   "cell_type": "markdown",
   "id": "b081be36-fafc-4431-9ded-fece29b7b0a0",
   "metadata": {},
   "source": [
    "#### 2. Greatest common divisor and least common multiple"
   ]
  },
  {
   "cell_type": "code",
   "execution_count": 32,
   "id": "e7753e4d-a9e9-41a9-99c6-c188f04679bc",
   "metadata": {},
   "outputs": [],
   "source": [
    "def gcd_lcm(n1, n2, op = \"\"):\n",
    "    \"\"\"Function which gives the greatest common divisor and least common multiple of two numbers\n",
    "    \n",
    "    Args:\n",
    "        n1 (int): First number we want to know the greatest common divisor or the least common multiple \n",
    "        n2 (int): Second number we want to know the greatest common divisor or the least common multiple \n",
    "        op (Text): The calculation we want to apply to the numbers. It can be defined as gcd or lcm \n",
    "        \n",
    "    Returns:\n",
    "       max(common_divisors) : A number that represents the greatest common divisor \n",
    "       least common multiple of the two numbers\n",
    "        \n",
    "    \"\"\"\n",
    "    # Calculating the divisors of each number, and adding to a list\n",
    "    d1 = []\n",
    "    d2 = []\n",
    "    \n",
    "    for i in range(2,n1 +1):\n",
    "        if n1%i == 0:\n",
    "            d1.append(i)\n",
    "            \n",
    "    for i in range(2,n2 +1):\n",
    "        if n2%i == 0:\n",
    "            d2.append(i)\n",
    "    common_divisors = []\n",
    "    \n",
    "    # Getting common divisors between the numbers \n",
    "    for i in d1:\n",
    "        for j in d2:\n",
    "            if i == j:\n",
    "                common_divisors.append(i)\n",
    "                \n",
    "    # Applying the formula of the calculation asked for\n",
    "    if op == \"gcd\":\n",
    "        if common_divisors == []:\n",
    "            return 'The greatest common divisor is 1'\n",
    "        else: \n",
    "            return f'The greatest common divisor is {max(common_divisors)}'\n",
    "        \n",
    "    if op == \"lcm\":\n",
    "        if common_divisors == []:\n",
    "            return f'The greatest common divisorn is {n1*n2}'\n",
    "        else:\n",
    "            return f'The greatest common divisor is {int((n1 * n2)/ max(common_divisors))}'\n"
   ]
  },
  {
   "cell_type": "code",
   "execution_count": 34,
   "id": "79926d9d",
   "metadata": {},
   "outputs": [
    {
     "data": {
      "text/plain": [
       "'The greatest common divisor is 54'"
      ]
     },
     "execution_count": 34,
     "metadata": {},
     "output_type": "execute_result"
    }
   ],
   "source": [
    "gcd_lcm(9, 54, 'lcm')"
   ]
  },
  {
   "cell_type": "markdown",
   "id": "08e014fe-c922-44c1-87ae-4bec4866ec5d",
   "metadata": {},
   "source": [
    "#### 3. Number of occurences of any word"
   ]
  },
  {
   "cell_type": "code",
   "execution_count": null,
   "id": "02612cb4-81ce-4d6c-9519-e4974da7e64d",
   "metadata": {},
   "outputs": [],
   "source": [
    "def occurrences_word(sentence):\n",
    "    \"\"\"Function which tells how many times a word is repeated in a sentence or a text\n",
    "    \n",
    "    Args:\n",
    "        sentence (str): Sentence in which we are going to count the words\n",
    "        \n",
    "    Returns:\n",
    "        Unique word: Every unique word\n",
    "        Counter: How many times is that word repeated\n",
    "        \n",
    "    \"\"\"\n",
    "    sentence=sentence.split()\n",
    "    palabras_unicas=set(sentence)\n",
    "    for unique_word in palabras_unicas:\n",
    "        counter=0\n",
    "        for word in sentence:\n",
    "            if word==unique_word:\n",
    "                counter+=1\n",
    "        print(f\"Count of word '{unique_word}'is {counter}\")"
   ]
  },
  {
   "cell_type": "code",
   "execution_count": null,
   "id": "3639b0e8-3b2e-4be8-932f-39b4bfd6c67c",
   "metadata": {},
   "outputs": [],
   "source": [
    "sentence=str(input(\"introduce any sentence\"))\n",
    "occurrences_word(sentence)"
   ]
  },
  {
   "cell_type": "markdown",
   "id": "4d518410-b5a6-4b6d-905b-246414cbddbd",
   "metadata": {},
   "source": [
    "#### 4. Reverse order of elements"
   ]
  },
  {
   "cell_type": "code",
   "execution_count": null,
   "id": "09c9c8c5-8713-46c9-8777-0347f744fe6c",
   "metadata": {},
   "outputs": [],
   "source": [
    "lst=[5,3,4,8,9]"
   ]
  },
  {
   "cell_type": "code",
   "execution_count": null,
   "id": "e8519514-7782-48ee-a010-462d61814e39",
   "metadata": {},
   "outputs": [],
   "source": [
    "def reverse_order(list):\n",
    "    \"\"\"Function which returns a list in reverse order\n",
    "    \n",
    "    Args:\n",
    "        list (list): List to which we want to change the order\n",
    "        \n",
    "    Returns:\n",
    "        list: Returns the given list in the reverse order\n",
    "        \n",
    "    \"\"\"\n",
    "    return list[::-1]"
   ]
  },
  {
   "cell_type": "code",
   "execution_count": null,
   "id": "853eb20a-08bf-4701-b4c0-148384442086",
   "metadata": {},
   "outputs": [],
   "source": [
    "reverse_order(lst)"
   ]
  },
  {
   "cell_type": "markdown",
   "id": "f2380dc4-7f1e-4587-827c-fea7dc3328cd",
   "metadata": {},
   "source": [
    "#### 5. Interest compound"
   ]
  },
  {
   "cell_type": "code",
   "execution_count": null,
   "id": "e84dc9b0-7ae5-459d-949d-8a28d7ff0198",
   "metadata": {},
   "outputs": [],
   "source": [
    "# With input\n",
    "# We define the formula \n",
    "def compound_rate(Initial_amount, Interest_rate, years_of_compounding): \n",
    "    \"\"\"Function which returns the final capital after adding the compounding interest\n",
    "    \n",
    "    Args:\n",
    "        Initial_amount (float): A number which in this case is the initial amount we want to calculate with the compounding years and interest rate\n",
    "        years_of compounding (float): A number which in this case are the years we want to calculate the CI\n",
    "        Interest_rate (float): A number which in this case it's the % that we are applying to our initial amount\n",
    "        \n",
    "    Returns:\n",
    "        compound_rate: will return a bracket where we can put the Initial amount, the interest rate and the years of compounding, we will recieve\n",
    "        the total amount after the years of compounding and also we will recieve only the amount gained from the compound interest.\n",
    "        \n",
    "    \"\"\"\n",
    "    # We use the CI formula \n",
    "    TotalAmount = Initial_amount *(1 + Interest_rate / 100)** years_of_compounding  \n",
    "    # We calculate the CI  \n",
    "    CompoundingInterest = TotalAmount - Initial_amount  \n",
    "    # We print CI  \n",
    "    print(\"Total return value after the year of compounding: \", TotalAmount)  \n",
    "    print(\"Only the compound interest gained on given amount is\", CompoundingInterest)  \n",
    "  \n",
    "# Taking principal amount value from the user  \n",
    "Initial_amount = float(input(\"Enter the initial amount: \"))  \n",
    "Interest_rate = float(input(\"Enter the rate for compound interest: \"))  # We put directly the % we want to calculate  \n",
    "years_of_compounding = float(input(\"Enter the time period for which initial is invested: \"))  # We put directly the years we want to calculate  \n",
    "  \n",
    "# Now we call the CI function  \n",
    "compound_rate(Initial_amount, Interest_rate, years_of_compounding) "
   ]
  },
  {
   "cell_type": "code",
   "execution_count": null,
   "id": "d4ce5ae5-195c-49aa-ab19-3428f5ce8519",
   "metadata": {},
   "outputs": [],
   "source": [
    "# Without input\n",
    "# We define the formula \n",
    "def compound_rate(Initial_amount, Interest_rate, years_of_compounding): \n",
    "    \"\"\"Function which returns the final capital after adding the compounding interest\n",
    "    \n",
    "    Args:\n",
    "        Initial_amount (float): A number which in this case is the initial amount we want to calculate with the compounding years and interest rate\n",
    "        years_of compounding (float): A number which in this case are the years we want to calculate the CI\n",
    "        Interest_rate (float): A number which in this case it's the % that we are applying to our initial amount\n",
    "        \n",
    "    Returns:\n",
    "        compound_rate: will return a bracket where we can put the Initial amount, the interest rate and the years of compounding, we will recieve\n",
    "        the total amount after the years of compounding and also we will recieve only the amount gained from the compound interest.\n",
    "        \n",
    "    \"\"\"\n",
    "    # We use the CI formula \n",
    "    TotalAmount = Initial_amount *(1 + Interest_rate / 100)** years_of_compounding  \n",
    "    # We calculate the CI  \n",
    "    CompoundingInterest = TotalAmount - Initial_amount  \n",
    "    # We print CI  \n",
    "    print(\"Total return value after the year of compounding: \", TotalAmount)  \n",
    "    print(\"Only the compound interest gained on given amount is\", CompoundingInterest)   \n",
    "  \n",
    "# Now we call the CI function  \n",
    "compound_rate(10000, 5, 10) "
   ]
  },
  {
   "cell_type": "markdown",
   "id": "a093da40",
   "metadata": {},
   "source": [
    "##### A more complete interest compound formula."
   ]
  },
  {
   "cell_type": "code",
   "execution_count": 50,
   "id": "1f9e795d",
   "metadata": {},
   "outputs": [],
   "source": [
    "# This formula tries to solve the fact that compounding does not always match with the periods that the interest is given.\n",
    "\n",
    "def compounded_int(amount, months, interest, capitalization):\n",
    "    \"\"\"Function which gives the greatest common divisor and least common multiple of two numbers\n",
    "    \n",
    "    Args:\n",
    "        amount (int): The quantity you wanto to invest. \n",
    "        months (int): Number of months you want to invest. \n",
    "        interest (decimal): The rate you are going to be given for investing your money. It is needed the APR of the investing.\n",
    "        capitalization (Text): The periods of compunding. The options consider are monthly, quarterly, biannually or annually\n",
    "        \n",
    "    Returns:\n",
    "        i: A number that represents the period of compounding.\n",
    "        c: A number that represents the the total return for the period.\n",
    "        c-amount : A number that represents the return got from interests of the investing at the end of the period\n",
    "        \n",
    "    \"\"\"\n",
    "    \n",
    "    # we adjust the variables of the formula according to the inputs we have. \n",
    "    c = 0\n",
    "    cap_opt = {'monthly': 12, 'quarterly': 3, 'biannually': 2, 'annually': 1} # a dictionary for the variables of each compunding\n",
    "    cap = cap_opt[capitalization] \n",
    "    periods = months/ cap_opt[capitalization] # periods of capitalization\n",
    "    \n",
    "    # formula of interest compound\n",
    "    interest = (1 + interest)**(1/cap) - 1\n",
    "    \n",
    "    # Managing periods when aren't complete\n",
    "    if periods%1 != 0: \n",
    "        periods1 = months // cap_opt[capitalization]\n",
    "        periods2 = periods - periods1\n",
    "        periods = periods1\n",
    "\n",
    "        for i in range(1,int(periods) + 1): # Incomplete periods\n",
    "            if i == 1:\n",
    "                c = amount * (1 + interest)\n",
    "                print(f'The return in the period {i} is {c}')\n",
    "            else : \n",
    "                c *= (1 + interest)\n",
    "                print(f'The return in the period {i} is {c}') \n",
    "        c *= (1 + interest)**periods2 \n",
    "        print(f'The return in the period {periods2} is {c}') # Last and incomplete period\n",
    "\n",
    "    else:\n",
    "        for i in range(1,int(periods) + 1): # Complete periods\n",
    "            if i == 1:\n",
    "                c = amount * (1 + interest)\n",
    "                print(f'The return in the period {i} is {c}')\n",
    "            else : \n",
    "                c *= (1 + interest)\n",
    "                print(f'The return in the period {i} is {c}')\n",
    "\n",
    "    return (f'The final amount is {c} and the return from interests is {(c-amount)}')"
   ]
  },
  {
   "cell_type": "code",
   "execution_count": 52,
   "id": "f691ec3d",
   "metadata": {},
   "outputs": [
    {
     "name": "stdout",
     "output_type": "stream",
     "text": [
      "The return in the period 1 is 10246.9507659596\n",
      "The return in the period 2 is 10500.000000000004\n",
      "The return in the period 3 is 10759.298304257583\n",
      "The return in the period 4 is 11025.000000000005\n",
      "The return in the period 5 is 11297.263219470464\n",
      "The return in the period 6 is 11576.250000000007\n",
      "The return in the period 7 is 11862.126380443988\n",
      "The return in the period 0.5 is 12007.701176211689\n"
     ]
    },
    {
     "data": {
      "text/plain": [
       "'The final amount is 12007.701176211689 and the return from interests is 2007.701176211689'"
      ]
     },
     "execution_count": 52,
     "metadata": {},
     "output_type": "execute_result"
    }
   ],
   "source": [
    "compounded_int(10000,15,0.05, 'biannually')"
   ]
  },
  {
   "cell_type": "markdown",
   "id": "07ce9109-f134-48de-bc77-00fae0cb9784",
   "metadata": {},
   "source": [
    "## Individual Exercises"
   ]
  },
  {
   "cell_type": "markdown",
   "id": "859144f9-a069-4727-8301-893be36be2be",
   "metadata": {},
   "source": [
    "- ## Joaquin Flores"
   ]
  },
  {
   "cell_type": "code",
   "execution_count": null,
   "id": "20251094-490b-4a58-994b-ca26d7f936c8",
   "metadata": {},
   "outputs": [],
   "source": [
    "!pip install folium"
   ]
  },
  {
   "cell_type": "code",
   "execution_count": null,
   "id": "230b97b9-c783-4e94-b8d0-12014a321dbd",
   "metadata": {},
   "outputs": [],
   "source": [
    "import numpy as np\n",
    "import pandas as pd\n",
    "import seaborn as sns\n",
    "import matplotlib.pyplot as plt\n",
    "import folium as folium\n",
    "\n",
    "from scipy import stats\n",
    "from sklearn.metrics import classification_report\n",
    "from sklearn.model_selection import TimeSeriesSplit\n",
    "import itertools\n",
    "\n",
    "\n",
    "from sklearn.linear_model import LogisticRegression\n",
    "from sklearn.neighbors import KNeighborsClassifier\n",
    "from sklearn.ensemble import RandomForestClassifier\n",
    "from sklearn.svm import SVC"
   ]
  },
  {
   "cell_type": "code",
   "execution_count": null,
   "id": "d610bb5c-675f-4ffa-a4a2-2d5cdd726c3b",
   "metadata": {},
   "outputs": [],
   "source": [
    "df = pd.read_csv(r\"C:\\Users\\Joaquin Flores Oost\\Downloads\\DAPT python\\police.csv\")"
   ]
  },
  {
   "cell_type": "markdown",
   "id": "7fe89657-5394-4d18-bf33-2eac826130fe",
   "metadata": {},
   "source": [
    "## Agencies with most cases (Graph 1) \n",
    "A bar chart to see which agencies has the most cases."
   ]
  },
  {
   "cell_type": "code",
   "execution_count": null,
   "id": "46af1c1d-24c8-488d-ada7-0b1ba27cf90e",
   "metadata": {},
   "outputs": [],
   "source": [
    "sns.barplot(data=df['Agency'].value_counts().reset_index(), \n",
    "            x='Agency', y='index', \n",
    "            order=df['Agency'].value_counts().reset_index()['index'])\n",
    "\n",
    "plt.xlabel('Number of Reported Crimes')\n",
    "plt.ylabel('Agency')\n",
    "plt.gcf().set_size_inches(12, 5)\n",
    "\n",
    "plt.show()"
   ]
  },
  {
   "cell_type": "markdown",
   "id": "a1d5af39-ceae-489e-b76c-58497f99f85e",
   "metadata": {},
   "source": [
    "## Most and less realized complaints (Graph 2) \n",
    "A bar chart to see which are the top 10 most realized complaints and the bottom 10 complaints."
   ]
  },
  {
   "cell_type": "code",
   "execution_count": null,
   "id": "b2210c68-1444-4565-b7d8-0969197cb555",
   "metadata": {},
   "outputs": [],
   "source": [
    "temp_df = df['Complaint Type'].value_counts().reset_index() \\\n",
    "                                               .rename({'index': 'Complaint Type', \n",
    "                                                        'Complaint Type': 'Count_complaints_types'}, \n",
    "                                                       axis='columns')\n",
    "\n",
    "# Horizontal Bar Plots\n",
    "fig, axes = plt.subplots(1, 2, figsize=(12, 5))\n",
    "\n",
    "sns.barplot(ax = axes[0], data=temp_df.nlargest(10, 'Count_complaints_types'), \n",
    "            x='Count_complaints_types', y='Complaint Type', \n",
    "            order=temp_df.nlargest(10, 'Count_complaints_types')['Complaint Type'])\n",
    "axes[0].set(xlabel='Number of Reported Crimes', ylabel='', title='Top 10 Types of Complaints')\n",
    "\n",
    "sns.barplot(ax = axes[1], data=temp_df.nsmallest(10, 'Count_complaints_types'), \n",
    "            x='Count_complaints_types', y='Complaint Type',\n",
    "            order=temp_df.nsmallest(10, \n",
    "                                    'Count_complaints_types').sort_values('Count_complaints_types', \n",
    "                                                                ascending=False)['Complaint Type'])\n",
    "axes[1].set(xlabel='Number of Reported Complaints', ylabel='', title='Bottom 10 Types of Complaints')\n",
    "\n",
    "plt.tight_layout()\n",
    "\n",
    "plt.show()"
   ]
  },
  {
   "cell_type": "markdown",
   "id": "f6fb4364-04b4-412d-b8bf-b0a6e5b0bbb1",
   "metadata": {},
   "source": [
    "## Location of the complaints (Graph 3)\n",
    "A map chart to see where the Complaints has been made.\n"
   ]
  },
  {
   "cell_type": "code",
   "execution_count": null,
   "id": "6839ae16-b437-4017-a889-9bc63707a847",
   "metadata": {},
   "outputs": [],
   "source": [
    "Manhattan_map = folium.Map(location=[40.78343, -73.96625],\n",
    "                        zoom_start=11,\n",
    "                        tiles=\"CartoDB dark_matter\")"
   ]
  },
  {
   "cell_type": "code",
   "execution_count": null,
   "id": "324c62a6-83c7-40a8-8527-489db991c7e5",
   "metadata": {},
   "outputs": [],
   "source": [
    "locations = df.groupby('Community Board').first()"
   ]
  },
  {
   "cell_type": "code",
   "execution_count": null,
   "id": "b5dd788a-bcf9-40aa-be7c-d731a9430b8a",
   "metadata": {},
   "outputs": [],
   "source": [
    "new_locations = locations.loc[:, ['Latitude', 'Longitude', 'Location Type', 'Status']]"
   ]
  },
  {
   "cell_type": "code",
   "execution_count": null,
   "id": "a4b82e69-8a97-4b25-a9ef-082a93d485c4",
   "metadata": {},
   "outputs": [],
   "source": [
    "popup_text = \"\"\"Borough : {}<br\n",
    "                Status : {}<br>\n",
    "                Location Type : {}<br>\"\"\""
   ]
  },
  {
   "cell_type": "code",
   "execution_count": null,
   "id": "aa557303-0e7a-4e3d-8c60-fb9dd23febe8",
   "metadata": {},
   "outputs": [],
   "source": [
    "for i in range(len(new_locations)):\n",
    "    lat = new_locations.iloc[i][0]\n",
    "    long = new_locations.iloc[i][1]\n",
    "    popup_text = \"\"\"Borough : {}<br\n",
    "                Status : {}<br>\n",
    "                Location Type : {}<br>\"\"\"\n",
    "    popup_text = popup_text.format(new_locations.index[i],\n",
    "                               new_locations.iloc[i][-1],\n",
    "                               new_locations.iloc[i][-2]\n",
    "                               )\n",
    "    folium.CircleMarker(location = [lat, long], popup= popup_text, fill = True).add_to(Manhattan_map)"
   ]
  },
  {
   "cell_type": "code",
   "execution_count": null,
   "id": "c1b709ec-2080-4b7e-9175-e63279f6d01f",
   "metadata": {},
   "outputs": [],
   "source": [
    "Manhattan_map"
   ]
  },
  {
   "cell_type": "markdown",
   "id": "c6dbef68-a1fc-472e-b493-68ce5b6ffe0a",
   "metadata": {},
   "source": [
    "- ## Valentin Perez"
   ]
  },
  {
   "cell_type": "code",
   "execution_count": null,
   "id": "e47cd4dc-443a-4a18-956e-1deede6f8f36",
   "metadata": {},
   "outputs": [],
   "source": [
    "#!pip install plotly"
   ]
  },
  {
   "cell_type": "code",
   "execution_count": null,
   "id": "8db2df17-93c8-4476-9d73-5a3e5ea3c47b",
   "metadata": {},
   "outputs": [],
   "source": [
    "import pandas as pd\n",
    "import plotly.express as px\n"
   ]
  },
  {
   "cell_type": "code",
   "execution_count": null,
   "id": "39d33db5-5606-4866-9a35-1e0fa739a87e",
   "metadata": {},
   "outputs": [],
   "source": [
    "police = pd.read_csv('police.csv')\n",
    "police_clean=police.loc[police[\"Borough\"].isin(['BROOKLYN', 'QUEENS', 'MANHATTAN', 'BRONX', 'STATEN ISLAND'])]\n",
    "police_clea\n",
    "#uno que relacione donde hay mas casos( cada caso tiene un numero y cadaciudad)\n",
    "#aparece en q distrito de cada caso hay mas riesgo( se necesitaria el id, la ciudad y el distritito de cada ciudad)\n",
    "#dependiendo de cada ciudad se sepa como se ncuetra las denuncias ( el status)"
   ]
  },
  {
   "cell_type": "markdown",
   "id": "b58ee8d8-e886-4180-9773-a8d57352e383",
   "metadata": {},
   "source": [
    "Grafico 1"
   ]
  },
  {
   "cell_type": "code",
   "execution_count": null,
   "id": "732597a2-6816-4bbd-8b7c-ea6094a95ccc",
   "metadata": {},
   "outputs": [],
   "source": [
    "info_1=police_clean[[\"Borough\",\"Unique Key\"]] #I choose the two values of the table\n",
    "info_1=info_1.groupby([\"Borough\"]).count().reset_index() # I grouped by the number of cases by Boroughs \n",
    "info_1# shows the data"
   ]
  },
  {
   "cell_type": "code",
   "execution_count": null,
   "id": "4695aa54-a127-4eef-9baa-2fd646c16774",
   "metadata": {},
   "outputs": [],
   "source": [
    "grafico_1 = px.bar(info_1,x=(\"Borough\"), y=(\"Unique Key\"),title=\"Nº of Cases per Borough\",color=(\"Borough\"))# I determine the type of graph, seslect the values for the x and y add a title and put different colors of borough\n",
    "grafico_1# shows the data"
   ]
  },
  {
   "cell_type": "code",
   "execution_count": null,
   "id": "2c1e6f23-6606-4104-9680-b34de89e1cc1",
   "metadata": {},
   "outputs": [],
   "source": [
    "info_2=police_clean[[\"Borough\",\"Community Board\",\"Unique Key\"]]#I choose the three values of the table\n",
    "info_2=info_2.groupby([\"Borough\",\"Community Board\"]).count().reset_index().sort_values([\"Borough\"]).head(38).tail(21) # As we have the unique key wich represents the number of cases we group by Community Board and lator on by Borough. Head and tail are used to determine Brookling and not other places. \n",
    "info_2# shows the data"
   ]
  },
  {
   "cell_type": "code",
   "execution_count": null,
   "id": "f8b5523d-1e4b-476e-b0bc-c6e40400788c",
   "metadata": {},
   "outputs": [],
   "source": [
    "grafico_2 = px.bar(info_2,x=(\"Community Board\"), y=(\"Unique Key\"),title=\"Nº of Cases per Community Board in Brooklyn\",color=(\"Community Board\"))# I determine the type of graph, seslect the values for the x and y add a title and put different colors of Community Board\n",
    "grafico_2# shows the data"
   ]
  },
  {
   "cell_type": "code",
   "execution_count": null,
   "id": "4559aff4-2370-4267-8ca8-579be418cc1f",
   "metadata": {},
   "outputs": [],
   "source": [
    "info_3=police[[\"Borough\",\"Status\",\"Unique Key\"]]#I choose the three values of the table\n",
    "info_3=info_3.groupby([\"Borough\",\"Status\"]).count().head(13).tail(7).reset_index()# As we have the unique key wich represents the number of cases we group by Stattus and later on by Borough. Head and tail are used to determine Brookling and not other places. \n",
    "info_3# shows the data"
   ]
  },
  {
   "cell_type": "code",
   "execution_count": null,
   "id": "a34d89bd-aded-4598-86c8-0132baadbd72",
   "metadata": {},
   "outputs": [],
   "source": [
    "grafico_3 = px.pie(info_3, values=\"Unique Key\", names=\"Status\", title=\"Status of Cases in Brooklyn\")# I determine the type of graph, seslect the values for the x and y.\n",
    "grafico_3.show() #shows the data"
   ]
  },
  {
   "cell_type": "markdown",
   "id": "8202206c-b36c-4179-90ae-26646ce72652",
   "metadata": {},
   "source": [
    "- ## Guadalupe Barberá"
   ]
  },
  {
   "cell_type": "code",
   "execution_count": null,
   "id": "6abf5473-88c4-4ea9-bb18-b2b5bcdc5151",
   "metadata": {},
   "outputs": [],
   "source": [
    "#!pip install plotly"
   ]
  },
  {
   "cell_type": "code",
   "execution_count": null,
   "id": "06f795ba-0835-47b0-a6c3-500121d9c606",
   "metadata": {},
   "outputs": [],
   "source": [
    "import pandas as pd\n",
    "import plotly.express as px"
   ]
  },
  {
   "cell_type": "code",
   "execution_count": null,
   "id": "e4285ca1-5eff-414d-9fa1-0cf4c0544e94",
   "metadata": {},
   "outputs": [],
   "source": [
    "spotify = pd.read_csv('spotify.csv')\n",
    "spotify.head(5)"
   ]
  },
  {
   "cell_type": "markdown",
   "id": "99900e4b-96bb-4876-9428-f6881d27ceb3",
   "metadata": {},
   "source": [
    "## Average Time Depending on The Genre"
   ]
  },
  {
   "cell_type": "code",
   "execution_count": null,
   "id": "5213516a-e301-4970-9e12-ae46c21efbf2",
   "metadata": {},
   "outputs": [],
   "source": [
    "spotify_new = spotify"
   ]
  },
  {
   "cell_type": "markdown",
   "id": "a25c9696-ce26-491b-ad22-f2aab4420958",
   "metadata": {},
   "source": [
    "#### Duration is in miliseconds therefore in the next step I will convert it into minutes and create a new column for it:"
   ]
  },
  {
   "cell_type": "code",
   "execution_count": null,
   "id": "02104c5e-3cf6-4a94-9c38-764258c0abb2",
   "metadata": {},
   "outputs": [],
   "source": [
    "spotify_new[\"time_in_minutes\"] = spotify[\"duration_ms\"].div(60000) # I created a new column and used the div function to divide the duration_ms column by 60000\n",
    "spotify_new.head(5)"
   ]
  },
  {
   "cell_type": "code",
   "execution_count": null,
   "id": "3de15e0a-eec6-4c43-85f1-9d4ff7009dc6",
   "metadata": {},
   "outputs": [],
   "source": [
    "info_spotify_1 = spotify_new[[\"track_genre\",\"time_in_minutes\"]]\n",
    "info_spotify_1 = info_spotify_1.groupby([\"track_genre\"]).mean([\"time_in_minutes\"]).sort_values([\"time_in_minutes\"],ascending = False).reset_index()\n",
    "#I grouped the data by genres so it shows me each genre only once and made the average of the minutes for each genre. Afterwards, I ordered the minutes from highest to lowest\n",
    "info_spotify_1.head()"
   ]
  },
  {
   "cell_type": "markdown",
   "id": "267fb650-a4dd-4d2c-9599-9e34c2c0226d",
   "metadata": {},
   "source": [
    "#### Want to analyze which genres are in a range between 3.5 and 4.5 minutes:"
   ]
  },
  {
   "cell_type": "code",
   "execution_count": null,
   "id": "128cbd50-f170-460b-b90d-d608e4c25e93",
   "metadata": {},
   "outputs": [],
   "source": [
    "info_spotify_1 = info_spotify_1[info_spotify_1[\"time_in_minutes\"] < 4.5]\n",
    "info_spotify_1 = info_spotify_1[info_spotify_1[\"time_in_minutes\"] > 3.5]\n",
    "info_spotify_1.head()"
   ]
  },
  {
   "cell_type": "code",
   "execution_count": null,
   "id": "f854b419-3db9-4705-ac79-cb20107d6afe",
   "metadata": {},
   "outputs": [],
   "source": [
    "fig = px.bar(info_spotify_1, x = \"track_genre\", y = \"time_in_minutes\", text_auto = \".2s\", color = \"track_genre\", title = \"AVERAGE TIME DEPENDING ON THE GENRE\", width =1200, height = 600, labels = {\n",
    "                        \"track_genre\": \"Genres\",\n",
    "                        \"time_in_minutes\": \"Minutes\"})\n",
    "fig.update_traces(textfont_size = 60, textangle = 0, textposition = \"outside\", cliponaxis = False)\n",
    "fig.show()"
   ]
  },
  {
   "cell_type": "markdown",
   "id": "508fe4fe-8de1-4960-85bc-e33647e6359e",
   "metadata": {},
   "source": [
    "## Popularity Regarding Speechiness"
   ]
  },
  {
   "cell_type": "code",
   "execution_count": null,
   "id": "e7c874dc-9ecb-4b10-8d81-47fa96ed1dd2",
   "metadata": {},
   "outputs": [],
   "source": [
    "info_spotify_2 = spotify_new[[\"track_genre\",\"track_name\",\"popularity\",\"speechiness\"]]\n",
    "info_spotify_2 = info_spotify_2.drop_duplicates(subset =[\"track_name\"],  keep = \"first\")\n",
    "info_spotify_2 = info_spotify_2.sort_values([\"speechiness\",\"popularity\"],ascending =[False, False]).groupby([\"track_genre\"]).head(1).sort_values([\"popularity\"])\n",
    "#I ordered the speechiness and popularity and grouped it by genre. Then we ordered the popularity so we can see it more clearly in the graph.\n",
    "info_spotify_2"
   ]
  },
  {
   "cell_type": "code",
   "execution_count": null,
   "id": "31156096-8e30-44e4-8d98-5c1ac0672e69",
   "metadata": {},
   "outputs": [],
   "source": [
    "fig = px.bar(info_spotify_2, x = \"track_name\", y = \"speechiness\", title = \"POPULARITY REGARDING SPEECHINESS\", color = \"popularity\", labels = {\"track_name\": \"Songs\", \"speechiness\": \"Speechiness\"}, height = 1000)\n",
    "fig.show()"
   ]
  },
  {
   "cell_type": "markdown",
   "id": "23894950-fd42-463c-afe2-19165db3220a",
   "metadata": {
    "tags": []
   },
   "source": [
    "## Danceability of each Genre Depending on the Tempo"
   ]
  },
  {
   "cell_type": "code",
   "execution_count": null,
   "id": "a7ea8cd1-7223-4416-b3ad-de822f8ee9ec",
   "metadata": {},
   "outputs": [],
   "source": [
    "info_grafico_3=spotify_new[[\"track_genre\",\"danceability\",\"tempo\",\"track_name\"]]\n",
    "info_grafico_3=info_grafico_3.drop_duplicates(subset=[\"track_name\"],keep=\"first\")\n",
    "info_grafico_3=info_grafico_3.sort_values([\"danceability\",\"tempo\"], ascending=False).groupby([\"track_genre\"]).head(3).sort_values([\"track_genre\"], ascending=False)\n",
    "info_grafico_3"
   ]
  },
  {
   "cell_type": "code",
   "execution_count": null,
   "id": "267afc37-e6ec-4afe-902e-7735b832c9d0",
   "metadata": {},
   "outputs": [],
   "source": [
    "fig = px.scatter(info_grafico_3, x = \"tempo\", y = \"danceability\", title = \"DANCEABILITY OF EACH GENRE DEPENDING ON THE TEMPO\", color=\"track_genre\",height=500, labels={\"track_genre\" : \"genre\"})\n",
    "fig.show()"
   ]
  },
  {
   "cell_type": "markdown",
   "id": "33ec27e9-c8cf-4b12-af48-94774f2feeb7",
   "metadata": {
    "tags": []
   },
   "source": [
    "- ## Paula Garcia"
   ]
  },
  {
   "cell_type": "code",
   "execution_count": null,
   "id": "c5d84327-7ce2-4fde-b49e-0a3bb8d5139e",
   "metadata": {},
   "outputs": [],
   "source": [
    "#!pip install plotly"
   ]
  },
  {
   "cell_type": "code",
   "execution_count": null,
   "id": "110fbeb4-db45-46da-9f96-613121ced217",
   "metadata": {},
   "outputs": [],
   "source": [
    "import pandas as pd "
   ]
  },
  {
   "cell_type": "code",
   "execution_count": null,
   "id": "f039533f-1302-4945-b5b7-551ea77da83d",
   "metadata": {},
   "outputs": [],
   "source": [
    "df = pd.read_csv('/Users/paulagseco/Desktop/spotify.csv')"
   ]
  },
  {
   "cell_type": "markdown",
   "id": "9176a029-7790-412d-9552-a92e5a9469e6",
   "metadata": {
    "tags": []
   },
   "source": [
    "### Importing the needed libraries"
   ]
  },
  {
   "cell_type": "code",
   "execution_count": null,
   "id": "7fa92fc0-9f24-4160-a1d3-74b2ffb7c58d",
   "metadata": {},
   "outputs": [],
   "source": [
    "import matplotlib.pyplot as plt\n",
    "import matplotlib as mpl\n",
    "import plotly.express as px \n",
    "import seaborn as sns"
   ]
  },
  {
   "cell_type": "markdown",
   "id": "8dd5b87c-e9a1-4150-a1de-dc6a57fc7e03",
   "metadata": {},
   "source": [
    "## Correlation Matrix (1st graph)"
   ]
  },
  {
   "cell_type": "markdown",
   "id": "8d4bcb64-b17d-44e0-9b71-3c488033212f",
   "metadata": {},
   "source": [
    "#### Objetive: to visualize the correlation between all the variables of the dataset, therefore: correlation matrix using a heatmap from seaborn"
   ]
  },
  {
   "cell_type": "code",
   "execution_count": null,
   "id": "2383a165-8bd4-4919-ac17-bf6229b4cb7e",
   "metadata": {},
   "outputs": [],
   "source": [
    "correlation_matrix=df.drop(['Unnamed: 0'], axis=1) #deleting because it is unnecessary\n",
    "sns.heatmap(correlation_matrix.corr(), cmap=\"BuPu\", annot=True, linewidths=2, linecolor='black', annot_kws={\"size\": 20}) \n",
    "sns.set(rc = {'figure.figsize':(20,15)})\n",
    "plt.title('CORRELATION MATRIX', fontsize = 20)\n",
    "plt.show(close= None, block= None)"
   ]
  },
  {
   "cell_type": "markdown",
   "id": "bcd84c52-4fae-4c45-94e3-43e04558e6c3",
   "metadata": {
    "jp-MarkdownHeadingCollapsed": true,
    "tags": []
   },
   "source": [
    "#### Conclusion: most variables have little to non correlation between each others. Except for 'acousticness' and 'energy' that are closer to -1 therefore they have a negative 'strong' correlation, this means that one variable increases while the other decreases, and vice-versa. 'Loudness' and 'energy' also have a positive 'strong' correlation as they tend to move in the same direction. This chart helps to analyze the realtion between the variables of the dataset."
   ]
  },
  {
   "cell_type": "markdown",
   "id": "816a9f24-1bb2-4f28-9098-dc9a443fda7e",
   "metadata": {},
   "source": [
    "## Top 10 Most Popular Songs (2nd graph)"
   ]
  },
  {
   "cell_type": "markdown",
   "id": "b5c778ea-4e15-4c70-b2cd-cfd1147dc86a",
   "metadata": {},
   "source": [
    "#### Objective: to get the top 10 popular songs according the variable 'popularity' (this is how popular the song is from 0 to 100)"
   ]
  },
  {
   "cell_type": "code",
   "execution_count": null,
   "id": "b1c40c97-bdfd-4cb2-ad96-de6d639c38f3",
   "metadata": {},
   "outputs": [],
   "source": [
    "popular_songs=df[['track_name', 'popularity']]\n",
    "popular_songs=popular_songs.drop_duplicates(subset= 'track_name', keep= 'first')\n",
    "popular_songs=popular_songs.sort_values(['popularity'], ascending = False)\n",
    "popular_songs= popular_songs.head(10)\n",
    "popular_songs"
   ]
  },
  {
   "cell_type": "markdown",
   "id": "e48c11ec-f840-40bf-925a-14650c82ed27",
   "metadata": {},
   "source": [
    "#### To represent the results: bar chart using plotly"
   ]
  },
  {
   "cell_type": "code",
   "execution_count": null,
   "id": "2b05f927-d355-4b68-92aa-fc0b3ab33512",
   "metadata": {},
   "outputs": [],
   "source": [
    "fig = px.bar(popular_songs, x= 'track_name', y= 'popularity', text_auto= '.2s', color= 'track_name', \n",
    "             title= 'TOP 10 POPULAR SONGS', width= 1200, height = 600, \n",
    "             labels={'track_name' : 'Songs', 'popularity' : 'Popularity'})\n",
    "fig.update_traces(textfont_size =12, textangle=0, textposition = 'outside', cliponaxis=False)\n",
    "fig.show()"
   ]
  },
  {
   "cell_type": "markdown",
   "id": "d765fa1b-2a7b-4ab1-a5d9-5a20d6b1aca4",
   "metadata": {},
   "source": [
    "## Top Albums With Good Vibes (3rd graph)"
   ]
  },
  {
   "cell_type": "markdown",
   "id": "56e4e301-48bd-416a-b4b4-fe168499fa41",
   "metadata": {},
   "source": [
    "#### Objective: to get the top 5 albums with good vibes. Good vibes depend on 'valence' (the higher the value, the more positive mood for the album) and 'energy' of the album (the higher the value the more energetic)"
   ]
  },
  {
   "cell_type": "code",
   "execution_count": null,
   "id": "2b61fcd8-8899-4c33-ae52-35a3d3a09a58",
   "metadata": {},
   "outputs": [],
   "source": [
    "positive_albums=df[['album_name', 'valence', 'energy']]\n",
    "positive_albums=positive_albums.drop_duplicates()\n",
    "positive_albums=positive_albums.sort_values(['valence', 'energy'], ascending = [False, False])\n",
    "positive_albums=positive_albums.head(5)\n",
    "positive_albums"
   ]
  },
  {
   "cell_type": "markdown",
   "id": "3b36d3ea-5560-438d-8980-55636b0d9145",
   "metadata": {},
   "source": [
    "#### To represent the results: bar chart: using matplotly, this graph takes into account both variables, representing them on the same bar for each album"
   ]
  },
  {
   "cell_type": "code",
   "execution_count": null,
   "id": "3e8205c3-c389-4cd3-b295-5ac26af0b081",
   "metadata": {},
   "outputs": [],
   "source": [
    "plt.bar(x=positive_albums['album_name'], height=positive_albums['valence'], label='valence', color= 'darkblue')\n",
    "plt.bar(x=positive_albums['album_name'], height=positive_albums['energy'], bottom=positive_albums['valence'], label='energy', color= 'royalblue')\n",
    "plt.title('TOP ALBUMS WITH GOOD VIBES', fontsize=35)\n",
    "plt.xlabel('Album', fontsize=25)\n",
    "plt.ylabel('Count', fontsize=25)\n",
    "plt.xticks(fontsize = 23)\n",
    "plt.yticks(fontsize = 23)\n",
    "plt.legend(fontsize=20)\n",
    "plt.figure(figsize=(20, 20))\n",
    "plt.show()"
   ]
  },
  {
   "cell_type": "markdown",
   "id": "42eca310-caee-41c6-929e-cacf9e3d87b2",
   "metadata": {},
   "source": [
    "- ## Sergio Berlanga"
   ]
  },
  {
   "cell_type": "markdown",
   "id": "4dd2f548-d562-4767-9b19-86b51604dad3",
   "metadata": {},
   "source": [
    "In my case, I have used the stocks dataset. \n"
   ]
  },
  {
   "cell_type": "markdown",
   "id": "5735b8b0-0337-43a0-bfdd-b56527ff829a",
   "metadata": {},
   "source": [
    "Firstly, before making the grpahs, I concatenate several stocks in order to have more data."
   ]
  },
  {
   "cell_type": "code",
   "execution_count": null,
   "id": "43a5637f-f123-4544-b991-573557f50542",
   "metadata": {},
   "outputs": [],
   "source": [
    "import pandas as pd\n",
    "import plotly.graph_objects as go"
   ]
  },
  {
   "cell_type": "code",
   "execution_count": null,
   "id": "5413b226-1477-4eb4-8dd1-1cc71a47fb5e",
   "metadata": {},
   "outputs": [],
   "source": [
    "stocks1 = pd.read_csv(r'C:\\Users\\Koser\\OneDrive\\Escritorio\\UAX\\3er Año\\Data Analysis Programming tools\\Python\\Datasets\\AMZN.csv')"
   ]
  },
  {
   "cell_type": "code",
   "execution_count": null,
   "id": "025927a9-6d2d-4fe4-8d6e-1f000a98fd36",
   "metadata": {},
   "outputs": [],
   "source": [
    "stocks1['Company']='AMZN'"
   ]
  },
  {
   "cell_type": "code",
   "execution_count": null,
   "id": "4f802212-1804-4b78-b9ef-b5579b480083",
   "metadata": {},
   "outputs": [],
   "source": [
    "stocks2 = pd.read_csv(r'C:\\Users\\Koser\\OneDrive\\Escritorio\\UAX\\3er Año\\Data Analysis Programming tools\\Python\\Datasets\\GRIN.csv')"
   ]
  },
  {
   "cell_type": "code",
   "execution_count": null,
   "id": "f079d0e5-bd43-4243-a99d-5e4232112823",
   "metadata": {},
   "outputs": [],
   "source": [
    "stocks2['Company']='GRIN'"
   ]
  },
  {
   "cell_type": "code",
   "execution_count": null,
   "id": "119a5d4d-5d31-4d02-b039-907cc59bc388",
   "metadata": {},
   "outputs": [],
   "source": [
    "stocks3 = pd.read_csv(r'C:\\Users\\Koser\\OneDrive\\Escritorio\\UAX\\3er Año\\Data Analysis Programming tools\\Python\\Datasets\\FICO.csv')"
   ]
  },
  {
   "cell_type": "code",
   "execution_count": null,
   "id": "82889a99-1183-4412-8f89-35da05237921",
   "metadata": {},
   "outputs": [],
   "source": [
    "stocks3['Company']='FICO'"
   ]
  },
  {
   "cell_type": "code",
   "execution_count": null,
   "id": "50e7a527-181b-4049-8d5c-0ccf74fd3d49",
   "metadata": {},
   "outputs": [],
   "source": [
    "stocks4 = pd.read_csv(r'C:\\Users\\Koser\\OneDrive\\Escritorio\\UAX\\3er Año\\Data Analysis Programming tools\\Python\\Datasets\\BCH.csv')"
   ]
  },
  {
   "cell_type": "code",
   "execution_count": null,
   "id": "24c0003c-635d-447d-86cb-8e431c517387",
   "metadata": {},
   "outputs": [],
   "source": [
    "stocks4['Company']='BCH'"
   ]
  },
  {
   "cell_type": "code",
   "execution_count": null,
   "id": "c561c082-e402-4ed1-8c7e-c64da88ac539",
   "metadata": {},
   "outputs": [],
   "source": [
    "stocks5 = pd.read_csv(r'C:\\Users\\Koser\\OneDrive\\Escritorio\\UAX\\3er Año\\Data Analysis Programming tools\\Python\\Datasets\\BTO.csv')"
   ]
  },
  {
   "cell_type": "code",
   "execution_count": null,
   "id": "39ae9638-cd35-4c62-8b90-033a828e5161",
   "metadata": {},
   "outputs": [],
   "source": [
    "stocks5['Company']='BTO'"
   ]
  },
  {
   "cell_type": "code",
   "execution_count": null,
   "id": "001c876b-f6fa-48de-8082-79f36778b2d4",
   "metadata": {},
   "outputs": [],
   "source": [
    "final_stock = pd.concat([stocks1, stocks2, stocks3, stocks4, stocks5],axis=0)"
   ]
  },
  {
   "cell_type": "code",
   "execution_count": null,
   "id": "f670b79a-7305-44ff-b899-a772c071ef06",
   "metadata": {},
   "outputs": [],
   "source": [
    "final_stock.reset_index()"
   ]
  },
  {
   "cell_type": "markdown",
   "id": "5a12c144-11ed-44e9-8f71-0797088f99db",
   "metadata": {},
   "source": [
    "## Comparison Of Stocks (Graph 1)"
   ]
  },
  {
   "cell_type": "markdown",
   "id": "bf1ae4d3-3e91-4d40-98e2-902b00508953",
   "metadata": {},
   "source": [
    "#### In this first graph I selected a few stocks to compare them and get to a conclusion so I can decide in which of these stocks I should invest. "
   ]
  },
  {
   "cell_type": "code",
   "execution_count": null,
   "id": "974ea3ed-9241-4542-8244-4a93061272da",
   "metadata": {
    "tags": []
   },
   "outputs": [],
   "source": [
    "from datetime import datetime"
   ]
  },
  {
   "cell_type": "markdown",
   "id": "c27b960a-2f3e-4497-a265-8542f7caa9c1",
   "metadata": {},
   "source": [
    "At this point, I realise that the data until 2015 was not relevant. That´s the reason why I select here the data from each stock since that year to make the comparison."
   ]
  },
  {
   "cell_type": "code",
   "execution_count": null,
   "id": "7fd6276b-1de5-4acc-bcb3-558d0a76d49d",
   "metadata": {},
   "outputs": [],
   "source": [
    "AMZN15_20 = stocks1[stocks1['Date']>'2015-01-1']"
   ]
  },
  {
   "cell_type": "code",
   "execution_count": null,
   "id": "0680d25a-ec25-47ec-be83-67437a1bac28",
   "metadata": {},
   "outputs": [],
   "source": [
    "GRINLUZ15_20 = stocks2[stocks2['Date']>'2015-01-1']"
   ]
  },
  {
   "cell_type": "code",
   "execution_count": null,
   "id": "8042dfb4-bd4e-475e-8eca-6cac8614b41e",
   "metadata": {},
   "outputs": [],
   "source": [
    "FICO15_20 = stocks3[stocks3['Date']>'2015-01-1']"
   ]
  },
  {
   "cell_type": "code",
   "execution_count": null,
   "id": "933071dc-6886-4d14-bce9-fa3849c29cf5",
   "metadata": {
    "tags": []
   },
   "outputs": [],
   "source": [
    "BCH15_20 = stocks4[stocks4['Date']>'2015-01-1']"
   ]
  },
  {
   "cell_type": "code",
   "execution_count": null,
   "id": "20ed7101-5067-4322-ad9c-6dfdca69962c",
   "metadata": {},
   "outputs": [],
   "source": [
    "import matplotlib.pyplot as plt"
   ]
  },
  {
   "cell_type": "code",
   "execution_count": null,
   "id": "90dc9afd-6865-40d6-81b6-459a0d819b74",
   "metadata": {},
   "outputs": [],
   "source": [
    "#for each company I assign a name\n",
    "company_list=[AMZN15_20, GRINLUZ15_20, FICO15_20, BCH15_20]\n",
    "company_name=[\"AMAZON\", \"GRIN LUZ\", \"FICO\", \"BCH\"]"
   ]
  },
  {
   "cell_type": "markdown",
   "id": "84844cfe-ce01-4e8c-9155-e57fe6423d3e",
   "metadata": {},
   "source": [
    "#### I show in the graph the moving averages of 10,20 and 50 for each stock"
   ]
  },
  {
   "cell_type": "code",
   "execution_count": null,
   "id": "d36a5ab5-4077-4d75-ace1-3ab1ef922d55",
   "metadata": {
    "tags": []
   },
   "outputs": [],
   "source": [
    "#I define the moving averages of 10,20 and 50\n",
    "ma_day = [10,20,50]\n",
    "\n",
    "for ma in ma_day:\n",
    "    for company in company_list:\n",
    "        column_name = f\"MA for {ma} days\"\n",
    "        company[column_name] = company['Adj Close'].rolling(ma).mean()"
   ]
  },
  {
   "cell_type": "code",
   "execution_count": null,
   "id": "a9c4882b-1808-40e4-9fb4-e28406ac9934",
   "metadata": {},
   "outputs": [],
   "source": [
    "fig, axes = plt.subplots(nrows=2, ncols=2)\n",
    "fig.set_figheight(8)\n",
    "fig.set_figwidth(15)\n",
    "\n",
    "#For each stock since 2015, we plot them with the moving averages previously defined.\n",
    "AMZN15_20[['Adj Close', 'MA for 10 days', 'MA for 20 days', 'MA for 50 days']].plot(ax=axes[0,0])\n",
    "axes[0,0].set_title('AMAZON')\n",
    "\n",
    "GRINLUZ15_20[['Adj Close', 'MA for 10 days', 'MA for 20 days', 'MA for 50 days']].plot(ax=axes[0,1])\n",
    "axes[0,1].set_title('GRIN LUZ')\n",
    "\n",
    "FICO15_20[['Adj Close', 'MA for 10 days', 'MA for 20 days', 'MA for 50 days']].plot(ax=axes[1,0])\n",
    "axes[1,0].set_title('FICO')\n",
    "\n",
    "BCH15_20[['Adj Close', 'MA for 10 days', 'MA for 20 days', 'MA for 50 days']].plot(ax=axes[1,1])\n",
    "axes[1,1].set_title('BCH')\n",
    "\n",
    "fig.tight_layout()"
   ]
  },
  {
   "cell_type": "markdown",
   "id": "08d7bf19-19e0-4922-875a-251d9e47cc00",
   "metadata": {},
   "source": [
    "## Candlestick (Graph 2)"
   ]
  },
  {
   "cell_type": "markdown",
   "id": "886f0815-9346-4484-8ada-7ffc4c7b6e76",
   "metadata": {},
   "source": [
    "#### Once I see the stocks plotted, as we can observe that Amazon is the only one with a positive tendency, it is the one that I´m going to analyze in detail."
   ]
  },
  {
   "cell_type": "code",
   "execution_count": null,
   "id": "4c9a684e-7ec9-4dc7-b5ab-a690cd38b21b",
   "metadata": {},
   "outputs": [],
   "source": [
    "#For the candlestick graph we have to select the data, when did the stock open and close, and the highest and lowest value\n",
    "graph = go.Figure(data=[go.Candlestick(x=AMZN15_20['Date'],\n",
    "                open=stocks1['Open'],\n",
    "                high=stocks1['High'],\n",
    "                low=stocks1['Low'],\n",
    "                close=stocks1['Close'])])"
   ]
  },
  {
   "cell_type": "code",
   "execution_count": null,
   "id": "33b108e3-10f6-4232-aaff-3c10cc95e4d2",
   "metadata": {
    "tags": []
   },
   "outputs": [],
   "source": [
    "graph.show()"
   ]
  },
  {
   "cell_type": "markdown",
   "id": "869f1137-834e-441f-b3ac-351856380abd",
   "metadata": {},
   "source": [
    "## Amazon Analysis (Graph 3)"
   ]
  },
  {
   "cell_type": "markdown",
   "id": "42b743fb-0dbd-4d63-a592-ab421d2603e4",
   "metadata": {},
   "source": [
    "#### In the last graph, I try to obtain as much information as possible with an interactive graph. It allows me to know the Stock return, Closing price and Shares trades from Amazon at different times"
   ]
  },
  {
   "cell_type": "code",
   "execution_count": null,
   "id": "33550eea-3ee2-4b0e-a3ca-5b3744b6acce",
   "metadata": {},
   "outputs": [],
   "source": [
    "from plotly.subplots import make_subplots"
   ]
  },
  {
   "cell_type": "code",
   "execution_count": null,
   "id": "05a28e5a-c1d8-4392-a736-d92cc8aab1f2",
   "metadata": {},
   "outputs": [],
   "source": [
    "import matplotlib.colors"
   ]
  },
  {
   "cell_type": "code",
   "execution_count": null,
   "id": "49754be2-7b20-4e8c-857c-89600660a840",
   "metadata": {},
   "outputs": [],
   "source": [
    "import plotly.express as px"
   ]
  },
  {
   "cell_type": "code",
   "execution_count": null,
   "id": "1f1d0ac8-dabc-4e61-bc42-fc0c265c443b",
   "metadata": {},
   "outputs": [],
   "source": [
    "#we define \"colors\" to use them afterwards when making the graphs\n",
    "colors=px.colors.qualitative.Plotly"
   ]
  },
  {
   "cell_type": "code",
   "execution_count": null,
   "id": "c702ddcd-9e21-4cc5-aa31-ef723a442f33",
   "metadata": {},
   "outputs": [],
   "source": [
    "#defining the visual things of the graphs (size, width, type of letter etc)\n",
    "temp = dict(layout=go.Layout(font=dict(family=\"Franklin Gothic\", size=12), width=800))"
   ]
  },
  {
   "cell_type": "code",
   "execution_count": null,
   "id": "36cc1349-b644-4dc4-8270-b8403d8683ab",
   "metadata": {},
   "outputs": [],
   "source": [
    "#We define these variables in order to later plot the total volume, closing price and average returns since 2015\n",
    "train_date=AMZN15_20.Date.unique()\n",
    "returns=AMZN15_20.groupby('Date')['Adj Close'].mean().mul(100).rename('Average Return')\n",
    "close_avg=AMZN15_20.groupby('Date')['Close'].mean().rename('Closing Price')\n",
    "vol_avg=AMZN15_20.groupby('Date')['Volume'].mean().rename('Volume')\n",
    "\n",
    "fig = make_subplots(rows=3, cols=1, \n",
    "                    shared_xaxes=True)\n",
    "for i, j in enumerate([returns, close_avg, vol_avg]):\n",
    "    fig.add_trace(go.Scatter(x=train_date, y=j, mode='lines',\n",
    "                             name=j.name, marker_color=colors[i]), row=i+1, col=1)\n",
    "#Creation of buttons for the interactive graph\n",
    "fig.update_xaxes(rangeslider_visible=False,\n",
    "                 rangeselector=dict(\n",
    "                     buttons=list([\n",
    "                         dict(count=6, label=\"6m\", step=\"month\", stepmode=\"backward\"),\n",
    "                         dict(count=1, label=\"1y\", step=\"year\", stepmode=\"backward\"),\n",
    "                         dict(count=2, label=\"2y\", step=\"year\", stepmode=\"backward\"),\n",
    "                         dict(step=\"all\")])),\n",
    "                 row=1,col=1)\n",
    "fig.update_layout(template=temp,title='Amazon Market Average Stock Return, Closing Price, and Shares Traded', \n",
    "                  hovermode='x unified', height=700, \n",
    "                  yaxis1=dict(title='Stock Return', ticksuffix='%'),   \n",
    "                  yaxis2_title='Closing Price', yaxis3_title='Shares Traded',\n",
    "                  showlegend=False)\n",
    "fig.show()"
   ]
  },
  {
   "cell_type": "markdown",
   "id": "f59d9308-f713-4feb-9fb7-298acb7f702a",
   "metadata": {},
   "source": [
    "- # Santiago Sanz"
   ]
  },
  {
   "cell_type": "code",
   "execution_count": null,
   "id": "4eefb4c9-1725-40e6-8a94-bff88668dacd",
   "metadata": {},
   "outputs": [],
   "source": [
    "import pandas as pd\n",
    "import seaborn as sns\n",
    "import matplotlib.pyplot as plt\n",
    "import seaborn as sns"
   ]
  },
  {
   "cell_type": "code",
   "execution_count": null,
   "id": "49807178-378b-44eb-8ab3-a8a43f71223b",
   "metadata": {},
   "outputs": [],
   "source": [
    "df = pd.read_csv(r\"C:\\Users\\santi\\Downloads\\python\\police.csv\")\n",
    "df"
   ]
  },
  {
   "cell_type": "markdown",
   "id": "76fefd1b-6565-4485-a692-6b02d91f162d",
   "metadata": {},
   "source": [
    "#### We want to know in which type of location there is more crimes"
   ]
  },
  {
   "cell_type": "code",
   "execution_count": null,
   "id": "5dd86a08-bb4f-4dff-bc35-81c624abd18a",
   "metadata": {},
   "outputs": [],
   "source": [
    "sns.set(style='darkgrid')\n",
    "plt.figure(figsize=(16, 6))\n",
    "ax = sns.countplot(x = 'Location Type', saturation = 0.75, dodge = True, data = df, order = df['Location Type'].value_counts().index)\n",
    "ax.set_xticklabels(ax.get_xticklabels(), rotation=90, ha=\"right\")\n",
    "plt.title('Number of reports in relation to Location Type')\n",
    "plt.tight_layout()\n",
    "plt.show()"
   ]
  },
  {
   "cell_type": "markdown",
   "id": "d9740b82-1806-49e6-8f23-648fb898ab08",
   "metadata": {},
   "source": [
    "#### We also are interested on knowing in a more specific way than just the borough, the places where occur most of the crimes"
   ]
  },
  {
   "cell_type": "code",
   "execution_count": null,
   "id": "1d01a249-3f07-470a-8967-3f12699bab97",
   "metadata": {},
   "outputs": [],
   "source": [
    "plt.figure(figsize=(6, 50))\n",
    "ax = sns.countplot(y = 'City', data = df, saturation = 0.75)\n",
    "ax.set_xticklabels(ax.get_xticklabels(), rotation=0, ha=\"right\")\n",
    "plt.show()"
   ]
  },
  {
   "cell_type": "markdown",
   "id": "2ca73e5b-0714-484b-8d20-8709be850bbe",
   "metadata": {},
   "source": [
    "#### We already know the status of cases of Brooklyn but now we want to know the status of all the reported crimes of the dataset"
   ]
  },
  {
   "cell_type": "code",
   "execution_count": null,
   "id": "0582e10b-a8ee-41e3-ae33-32b05d9039b8",
   "metadata": {},
   "outputs": [],
   "source": [
    "fig=df[[\"Status\",\"Unique Key\"]]\n",
    "fig = px.pie(df, values='Unique Key', names='Status', color_discrete_sequence=px.colors.sequential.RdBu)\n",
    "fig.show()"
   ]
  },
  {
   "cell_type": "markdown",
   "id": "6efeeb14",
   "metadata": {},
   "source": [
    "- # Diego Galindo"
   ]
  },
  {
   "cell_type": "markdown",
   "id": "80b0609f",
   "metadata": {},
   "source": [
    "I've always be mad about stock market and its functioning. So, I saw this project as a great oportunity to learn more about it\n",
    "and all the different ways algorithms are used for it. My graphs are focused on a portfolio optimization model that I have \n",
    "created as if I were an investment advisor."
   ]
  },
  {
   "cell_type": "markdown",
   "id": "fdc054cf",
   "metadata": {},
   "source": [
    "### Stocks dataset"
   ]
  },
  {
   "cell_type": "code",
   "execution_count": 1,
   "id": "a4f5f3de",
   "metadata": {},
   "outputs": [
    {
     "data": {
      "text/html": [
       "        <script type=\"text/javascript\">\n",
       "        window.PlotlyConfig = {MathJaxConfig: 'local'};\n",
       "        if (window.MathJax && window.MathJax.Hub && window.MathJax.Hub.Config) {window.MathJax.Hub.Config({SVG: {font: \"STIX-Web\"}});}\n",
       "        if (typeof require !== 'undefined') {\n",
       "        require.undef(\"plotly\");\n",
       "        requirejs.config({\n",
       "            paths: {\n",
       "                'plotly': ['https://cdn.plot.ly/plotly-2.16.1.min']\n",
       "            }\n",
       "        });\n",
       "        require(['plotly'], function(Plotly) {\n",
       "            window._Plotly = Plotly;\n",
       "        });\n",
       "        }\n",
       "        </script>\n",
       "        "
      ]
     },
     "metadata": {},
     "output_type": "display_data"
    }
   ],
   "source": [
    "import pandas as pd\n",
    "import numpy as np\n",
    "from datetime import datetime\n",
    "import matplotlib.pyplot as plt\n",
    "import statistics\n",
    "import matplotlib.pyplot as plt\n",
    "from sklearn import preprocessing\n",
    "import seaborn as sns\n",
    "sns.set()\n",
    "import cufflinks as cf\n",
    "from IPython.display import display,HTML\n",
    "cf.go_offline()\n",
    "#!pip install pandas_datareader \n",
    "from pandas_datareader import data\n",
    "from pypfopt import expected_returns\n",
    "# Visualization\n",
    "\n",
    "import plotly.express as px\n",
    "import plotly.graph_objects as go\n",
    "from ipywidgets import interactive\n",
    "import ipywidgets as widgets\n",
    "import plotly.io as pio"
   ]
  },
  {
   "cell_type": "markdown",
   "id": "58735380",
   "metadata": {},
   "source": [
    "First we upload all the data."
   ]
  },
  {
   "cell_type": "code",
   "execution_count": 2,
   "id": "832cc52e",
   "metadata": {},
   "outputs": [],
   "source": [
    "BCH = pd.read_csv(r'C:\\Users\\Usuario\\OneDrive - Universidad Alfonso X el Sabio\\Documentos\\3º Business Intelligence\\Data analysis programming tools\\Python\\Final Project\\Stocks\\BCH.csv')\n",
    "AMZN = pd.read_csv(r'C:\\Users\\Usuario\\OneDrive - Universidad Alfonso X el Sabio\\Documentos\\3º Business Intelligence\\Data analysis programming tools\\Python\\Final Project\\Stocks\\AMZN.csv')\n",
    "BTO = pd.read_csv(r'C:\\Users\\Usuario\\OneDrive - Universidad Alfonso X el Sabio\\Documentos\\3º Business Intelligence\\Data analysis programming tools\\Python\\Final Project\\Stocks\\BTO.csv')\n",
    "FICO = pd.read_csv(r'C:\\Users\\Usuario\\OneDrive - Universidad Alfonso X el Sabio\\Documentos\\3º Business Intelligence\\Data analysis programming tools\\Python\\Final Project\\Stocks\\FICO.csv')\n",
    "GRIN = pd.read_csv(r'C:\\Users\\Usuario\\OneDrive - Universidad Alfonso X el Sabio\\Documentos\\3º Business Intelligence\\Data analysis programming tools\\Python\\Final Project\\Stocks\\GRIN.csv')\n",
    "IHD = pd.read_csv(r'C:\\Users\\Usuario\\OneDrive - Universidad Alfonso X el Sabio\\Documentos\\3º Business Intelligence\\Data analysis programming tools\\Python\\Final Project\\Stocks\\IHD.csv')\n",
    "JFIN = pd.read_csv(r'C:\\Users\\Usuario\\OneDrive - Universidad Alfonso X el Sabio\\Documentos\\3º Business Intelligence\\Data analysis programming tools\\Python\\Final Project\\Stocks\\JFIN.csv')\n",
    "SPLP = pd.read_csv(r'C:\\Users\\Usuario\\OneDrive - Universidad Alfonso X el Sabio\\Documentos\\3º Business Intelligence\\Data analysis programming tools\\Python\\Final Project\\Stocks\\SPLP.csv')\n",
    "SRLP = pd.read_csv(r'C:\\Users\\Usuario\\OneDrive - Universidad Alfonso X el Sabio\\Documentos\\3º Business Intelligence\\Data analysis programming tools\\Python\\Final Project\\Stocks\\SRLP.csv')\n",
    "STOK = pd.read_csv(r'C:\\Users\\Usuario\\OneDrive - Universidad Alfonso X el Sabio\\Documentos\\3º Business Intelligence\\Data analysis programming tools\\Python\\Final Project\\Stocks\\STOK.csv')"
   ]
  },
  {
   "cell_type": "markdown",
   "id": "2817060a",
   "metadata": {},
   "source": [
    "For the expected return of the stock prices we are going to use the *CAPM* which requires the market return and the risk free market. So, we have selected for the market return *Russell 3000 Index* and the risk free from the 10 years U.S bond"
   ]
  },
  {
   "cell_type": "code",
   "execution_count": 3,
   "id": "e0335874",
   "metadata": {},
   "outputs": [],
   "source": [
    "RUA = pd.read_csv(r'C:\\Users\\Usuario\\OneDrive - Universidad Alfonso X el Sabio\\Documentos\\3º Business Intelligence\\Data analysis programming tools\\Python\\Final Project\\Stocks\\^RUA.csv')\n",
    "\n",
    "# Risk free taken from the 10 years U.S bond \n",
    "rf = 4.14"
   ]
  },
  {
   "cell_type": "markdown",
   "id": "f3583ae9",
   "metadata": {},
   "source": [
    "Now, we need to create a dataframe with all the stock prices and their tickets"
   ]
  },
  {
   "cell_type": "code",
   "execution_count": 4,
   "id": "226e9bd6",
   "metadata": {},
   "outputs": [],
   "source": [
    "BCH = BCH[['Date','Close']].assign(Ticker = 'BCH')\n",
    "AMZN = AMZN[['Date','Close']].assign(Ticker = 'AMZN')\n",
    "BTO = BTO[['Date','Close']].assign(Ticker = 'BTO')\n",
    "FICO = FICO[['Date','Close']].assign(Ticker = 'FICO')\n",
    "GRIN = GRIN[['Date','Close']].assign(Ticker = 'GRIN')\n",
    "IHD = IHD[['Date','Close']].assign(Ticker = 'IHD')\n",
    "JFIN = JFIN[['Date','Close']].assign(Ticker = 'JFIN')\n",
    "SPLP = SPLP[['Date','Close']].assign(Ticker = 'SPLP')\n",
    "SRLP = SRLP[['Date','Close']].assign(Ticker = 'SRLP')\n",
    "STOK = STOK[['Date','Close']].assign(Ticker = 'STOK')\n",
    "RUA = RUA[['Date','Close']].assign(Ticker = 'RUA')\n",
    "all_stocks = pd.concat([BCH,AMZN,BTO,FICO,GRIN,IHD,JFIN,SPLP,SRLP,STOK,RUA], ignore_index=True)"
   ]
  },
  {
   "cell_type": "code",
   "execution_count": 5,
   "id": "54e22c8b",
   "metadata": {},
   "outputs": [],
   "source": [
    "all_stocks = all_stocks.pivot(index = 'Date', columns = 'Ticker', values = 'Close')\n",
    "\n",
    "# We want more than 10 periods so we keep just the ones that requires the condition.\n",
    "all_stocks = all_stocks[all_stocks.index > '2010-01-01']\n",
    "\n",
    "# We separete the martket return from the stock prices\n",
    "mark_r = pd.DataFrame(all_stocks['RUA'])\n",
    "stocks = all_stocks.iloc[0:,:4]"
   ]
  },
  {
   "cell_type": "code",
   "execution_count": 6,
   "id": "860bafd2",
   "metadata": {},
   "outputs": [
    {
     "data": {
      "text/plain": [
       "Ticker\n",
       "AMZN    0\n",
       "BCH     0\n",
       "BTO     0\n",
       "FICO    0\n",
       "dtype: int64"
      ]
     },
     "execution_count": 6,
     "metadata": {},
     "output_type": "execute_result"
    }
   ],
   "source": [
    "# Historical daily prices into daily growth.\n",
    "returns = np.log(stocks).diff()\n",
    "returns = returns.dropna() # Avoid na values\n",
    "\n",
    "# The same for the market return\n",
    "mark_r = np.log(mark_r).diff()\n",
    "mark_r = mark_r.dropna()\n",
    "\n",
    "returns.isna().sum()"
   ]
  },
  {
   "cell_type": "markdown",
   "id": "4aff671d",
   "metadata": {},
   "source": [
    "In a portfolio, the correlation between stocks is key for reducing the risk. Let's check out how it is in our portfolio."
   ]
  },
  {
   "cell_type": "code",
   "execution_count": 7,
   "id": "00b05059",
   "metadata": {},
   "outputs": [
    {
     "data": {
      "application/vnd.plotly.v1+json": {
       "config": {
        "plotlyServerURL": "https://plot.ly"
       },
       "data": [
        {
         "coloraxis": "coloraxis",
         "hovertemplate": "Ticker: %{x}<br>Ticker: %{y}<br>color: %{z}<extra></extra>",
         "name": "0",
         "texttemplate": "%{z}",
         "type": "heatmap",
         "x": [
          "AMZN",
          "BCH",
          "BTO",
          "FICO",
          "RUA"
         ],
         "xaxis": "x",
         "y": [
          "AMZN",
          "BCH",
          "BTO",
          "FICO",
          "RUA"
         ],
         "yaxis": "y",
         "z": [
          [
           1,
           0.26,
           0.32,
           0.38,
           0.56
          ],
          [
           0.26,
           1,
           0.44,
           0.4,
           0.53
          ],
          [
           0.32,
           0.44,
           1,
           0.52,
           0.71
          ],
          [
           0.38,
           0.4,
           0.52,
           1,
           0.7
          ],
          [
           0.56,
           0.53,
           0.71,
           0.7,
           1
          ]
         ]
        }
       ],
       "layout": {
        "autosize": true,
        "coloraxis": {
         "colorscale": [
          [
           0,
           "#0d0887"
          ],
          [
           0.1111111111111111,
           "#46039f"
          ],
          [
           0.2222222222222222,
           "#7201a8"
          ],
          [
           0.3333333333333333,
           "#9c179e"
          ],
          [
           0.4444444444444444,
           "#bd3786"
          ],
          [
           0.5555555555555556,
           "#d8576b"
          ],
          [
           0.6666666666666666,
           "#ed7953"
          ],
          [
           0.7777777777777778,
           "#fb9f3a"
          ],
          [
           0.8888888888888888,
           "#fdca26"
          ],
          [
           1,
           "#f0f921"
          ]
         ]
        },
        "template": {
         "data": {
          "bar": [
           {
            "error_x": {
             "color": "#2a3f5f"
            },
            "error_y": {
             "color": "#2a3f5f"
            },
            "marker": {
             "line": {
              "color": "#E5ECF6",
              "width": 0.5
             },
             "pattern": {
              "fillmode": "overlay",
              "size": 10,
              "solidity": 0.2
             }
            },
            "type": "bar"
           }
          ],
          "barpolar": [
           {
            "marker": {
             "line": {
              "color": "#E5ECF6",
              "width": 0.5
             },
             "pattern": {
              "fillmode": "overlay",
              "size": 10,
              "solidity": 0.2
             }
            },
            "type": "barpolar"
           }
          ],
          "carpet": [
           {
            "aaxis": {
             "endlinecolor": "#2a3f5f",
             "gridcolor": "white",
             "linecolor": "white",
             "minorgridcolor": "white",
             "startlinecolor": "#2a3f5f"
            },
            "baxis": {
             "endlinecolor": "#2a3f5f",
             "gridcolor": "white",
             "linecolor": "white",
             "minorgridcolor": "white",
             "startlinecolor": "#2a3f5f"
            },
            "type": "carpet"
           }
          ],
          "choropleth": [
           {
            "colorbar": {
             "outlinewidth": 0,
             "ticks": ""
            },
            "type": "choropleth"
           }
          ],
          "contour": [
           {
            "colorbar": {
             "outlinewidth": 0,
             "ticks": ""
            },
            "colorscale": [
             [
              0,
              "#0d0887"
             ],
             [
              0.1111111111111111,
              "#46039f"
             ],
             [
              0.2222222222222222,
              "#7201a8"
             ],
             [
              0.3333333333333333,
              "#9c179e"
             ],
             [
              0.4444444444444444,
              "#bd3786"
             ],
             [
              0.5555555555555556,
              "#d8576b"
             ],
             [
              0.6666666666666666,
              "#ed7953"
             ],
             [
              0.7777777777777778,
              "#fb9f3a"
             ],
             [
              0.8888888888888888,
              "#fdca26"
             ],
             [
              1,
              "#f0f921"
             ]
            ],
            "type": "contour"
           }
          ],
          "contourcarpet": [
           {
            "colorbar": {
             "outlinewidth": 0,
             "ticks": ""
            },
            "type": "contourcarpet"
           }
          ],
          "heatmap": [
           {
            "colorbar": {
             "outlinewidth": 0,
             "ticks": ""
            },
            "colorscale": [
             [
              0,
              "#0d0887"
             ],
             [
              0.1111111111111111,
              "#46039f"
             ],
             [
              0.2222222222222222,
              "#7201a8"
             ],
             [
              0.3333333333333333,
              "#9c179e"
             ],
             [
              0.4444444444444444,
              "#bd3786"
             ],
             [
              0.5555555555555556,
              "#d8576b"
             ],
             [
              0.6666666666666666,
              "#ed7953"
             ],
             [
              0.7777777777777778,
              "#fb9f3a"
             ],
             [
              0.8888888888888888,
              "#fdca26"
             ],
             [
              1,
              "#f0f921"
             ]
            ],
            "type": "heatmap"
           }
          ],
          "heatmapgl": [
           {
            "colorbar": {
             "outlinewidth": 0,
             "ticks": ""
            },
            "colorscale": [
             [
              0,
              "#0d0887"
             ],
             [
              0.1111111111111111,
              "#46039f"
             ],
             [
              0.2222222222222222,
              "#7201a8"
             ],
             [
              0.3333333333333333,
              "#9c179e"
             ],
             [
              0.4444444444444444,
              "#bd3786"
             ],
             [
              0.5555555555555556,
              "#d8576b"
             ],
             [
              0.6666666666666666,
              "#ed7953"
             ],
             [
              0.7777777777777778,
              "#fb9f3a"
             ],
             [
              0.8888888888888888,
              "#fdca26"
             ],
             [
              1,
              "#f0f921"
             ]
            ],
            "type": "heatmapgl"
           }
          ],
          "histogram": [
           {
            "marker": {
             "pattern": {
              "fillmode": "overlay",
              "size": 10,
              "solidity": 0.2
             }
            },
            "type": "histogram"
           }
          ],
          "histogram2d": [
           {
            "colorbar": {
             "outlinewidth": 0,
             "ticks": ""
            },
            "colorscale": [
             [
              0,
              "#0d0887"
             ],
             [
              0.1111111111111111,
              "#46039f"
             ],
             [
              0.2222222222222222,
              "#7201a8"
             ],
             [
              0.3333333333333333,
              "#9c179e"
             ],
             [
              0.4444444444444444,
              "#bd3786"
             ],
             [
              0.5555555555555556,
              "#d8576b"
             ],
             [
              0.6666666666666666,
              "#ed7953"
             ],
             [
              0.7777777777777778,
              "#fb9f3a"
             ],
             [
              0.8888888888888888,
              "#fdca26"
             ],
             [
              1,
              "#f0f921"
             ]
            ],
            "type": "histogram2d"
           }
          ],
          "histogram2dcontour": [
           {
            "colorbar": {
             "outlinewidth": 0,
             "ticks": ""
            },
            "colorscale": [
             [
              0,
              "#0d0887"
             ],
             [
              0.1111111111111111,
              "#46039f"
             ],
             [
              0.2222222222222222,
              "#7201a8"
             ],
             [
              0.3333333333333333,
              "#9c179e"
             ],
             [
              0.4444444444444444,
              "#bd3786"
             ],
             [
              0.5555555555555556,
              "#d8576b"
             ],
             [
              0.6666666666666666,
              "#ed7953"
             ],
             [
              0.7777777777777778,
              "#fb9f3a"
             ],
             [
              0.8888888888888888,
              "#fdca26"
             ],
             [
              1,
              "#f0f921"
             ]
            ],
            "type": "histogram2dcontour"
           }
          ],
          "mesh3d": [
           {
            "colorbar": {
             "outlinewidth": 0,
             "ticks": ""
            },
            "type": "mesh3d"
           }
          ],
          "parcoords": [
           {
            "line": {
             "colorbar": {
              "outlinewidth": 0,
              "ticks": ""
             }
            },
            "type": "parcoords"
           }
          ],
          "pie": [
           {
            "automargin": true,
            "type": "pie"
           }
          ],
          "scatter": [
           {
            "fillpattern": {
             "fillmode": "overlay",
             "size": 10,
             "solidity": 0.2
            },
            "type": "scatter"
           }
          ],
          "scatter3d": [
           {
            "line": {
             "colorbar": {
              "outlinewidth": 0,
              "ticks": ""
             }
            },
            "marker": {
             "colorbar": {
              "outlinewidth": 0,
              "ticks": ""
             }
            },
            "type": "scatter3d"
           }
          ],
          "scattercarpet": [
           {
            "marker": {
             "colorbar": {
              "outlinewidth": 0,
              "ticks": ""
             }
            },
            "type": "scattercarpet"
           }
          ],
          "scattergeo": [
           {
            "marker": {
             "colorbar": {
              "outlinewidth": 0,
              "ticks": ""
             }
            },
            "type": "scattergeo"
           }
          ],
          "scattergl": [
           {
            "marker": {
             "colorbar": {
              "outlinewidth": 0,
              "ticks": ""
             }
            },
            "type": "scattergl"
           }
          ],
          "scattermapbox": [
           {
            "marker": {
             "colorbar": {
              "outlinewidth": 0,
              "ticks": ""
             }
            },
            "type": "scattermapbox"
           }
          ],
          "scatterpolar": [
           {
            "marker": {
             "colorbar": {
              "outlinewidth": 0,
              "ticks": ""
             }
            },
            "type": "scatterpolar"
           }
          ],
          "scatterpolargl": [
           {
            "marker": {
             "colorbar": {
              "outlinewidth": 0,
              "ticks": ""
             }
            },
            "type": "scatterpolargl"
           }
          ],
          "scatterternary": [
           {
            "marker": {
             "colorbar": {
              "outlinewidth": 0,
              "ticks": ""
             }
            },
            "type": "scatterternary"
           }
          ],
          "surface": [
           {
            "colorbar": {
             "outlinewidth": 0,
             "ticks": ""
            },
            "colorscale": [
             [
              0,
              "#0d0887"
             ],
             [
              0.1111111111111111,
              "#46039f"
             ],
             [
              0.2222222222222222,
              "#7201a8"
             ],
             [
              0.3333333333333333,
              "#9c179e"
             ],
             [
              0.4444444444444444,
              "#bd3786"
             ],
             [
              0.5555555555555556,
              "#d8576b"
             ],
             [
              0.6666666666666666,
              "#ed7953"
             ],
             [
              0.7777777777777778,
              "#fb9f3a"
             ],
             [
              0.8888888888888888,
              "#fdca26"
             ],
             [
              1,
              "#f0f921"
             ]
            ],
            "type": "surface"
           }
          ],
          "table": [
           {
            "cells": {
             "fill": {
              "color": "#EBF0F8"
             },
             "line": {
              "color": "white"
             }
            },
            "header": {
             "fill": {
              "color": "#C8D4E3"
             },
             "line": {
              "color": "white"
             }
            },
            "type": "table"
           }
          ]
         },
         "layout": {
          "annotationdefaults": {
           "arrowcolor": "#2a3f5f",
           "arrowhead": 0,
           "arrowwidth": 1
          },
          "autotypenumbers": "strict",
          "coloraxis": {
           "colorbar": {
            "outlinewidth": 0,
            "ticks": ""
           }
          },
          "colorscale": {
           "diverging": [
            [
             0,
             "#8e0152"
            ],
            [
             0.1,
             "#c51b7d"
            ],
            [
             0.2,
             "#de77ae"
            ],
            [
             0.3,
             "#f1b6da"
            ],
            [
             0.4,
             "#fde0ef"
            ],
            [
             0.5,
             "#f7f7f7"
            ],
            [
             0.6,
             "#e6f5d0"
            ],
            [
             0.7,
             "#b8e186"
            ],
            [
             0.8,
             "#7fbc41"
            ],
            [
             0.9,
             "#4d9221"
            ],
            [
             1,
             "#276419"
            ]
           ],
           "sequential": [
            [
             0,
             "#0d0887"
            ],
            [
             0.1111111111111111,
             "#46039f"
            ],
            [
             0.2222222222222222,
             "#7201a8"
            ],
            [
             0.3333333333333333,
             "#9c179e"
            ],
            [
             0.4444444444444444,
             "#bd3786"
            ],
            [
             0.5555555555555556,
             "#d8576b"
            ],
            [
             0.6666666666666666,
             "#ed7953"
            ],
            [
             0.7777777777777778,
             "#fb9f3a"
            ],
            [
             0.8888888888888888,
             "#fdca26"
            ],
            [
             1,
             "#f0f921"
            ]
           ],
           "sequentialminus": [
            [
             0,
             "#0d0887"
            ],
            [
             0.1111111111111111,
             "#46039f"
            ],
            [
             0.2222222222222222,
             "#7201a8"
            ],
            [
             0.3333333333333333,
             "#9c179e"
            ],
            [
             0.4444444444444444,
             "#bd3786"
            ],
            [
             0.5555555555555556,
             "#d8576b"
            ],
            [
             0.6666666666666666,
             "#ed7953"
            ],
            [
             0.7777777777777778,
             "#fb9f3a"
            ],
            [
             0.8888888888888888,
             "#fdca26"
            ],
            [
             1,
             "#f0f921"
            ]
           ]
          },
          "colorway": [
           "#636efa",
           "#EF553B",
           "#00cc96",
           "#ab63fa",
           "#FFA15A",
           "#19d3f3",
           "#FF6692",
           "#B6E880",
           "#FF97FF",
           "#FECB52"
          ],
          "font": {
           "color": "#2a3f5f"
          },
          "geo": {
           "bgcolor": "white",
           "lakecolor": "white",
           "landcolor": "#E5ECF6",
           "showlakes": true,
           "showland": true,
           "subunitcolor": "white"
          },
          "hoverlabel": {
           "align": "left"
          },
          "hovermode": "closest",
          "mapbox": {
           "style": "light"
          },
          "paper_bgcolor": "white",
          "plot_bgcolor": "#E5ECF6",
          "polar": {
           "angularaxis": {
            "gridcolor": "white",
            "linecolor": "white",
            "ticks": ""
           },
           "bgcolor": "#E5ECF6",
           "radialaxis": {
            "gridcolor": "white",
            "linecolor": "white",
            "ticks": ""
           }
          },
          "scene": {
           "xaxis": {
            "backgroundcolor": "#E5ECF6",
            "gridcolor": "white",
            "gridwidth": 2,
            "linecolor": "white",
            "showbackground": true,
            "ticks": "",
            "zerolinecolor": "white"
           },
           "yaxis": {
            "backgroundcolor": "#E5ECF6",
            "gridcolor": "white",
            "gridwidth": 2,
            "linecolor": "white",
            "showbackground": true,
            "ticks": "",
            "zerolinecolor": "white"
           },
           "zaxis": {
            "backgroundcolor": "#E5ECF6",
            "gridcolor": "white",
            "gridwidth": 2,
            "linecolor": "white",
            "showbackground": true,
            "ticks": "",
            "zerolinecolor": "white"
           }
          },
          "shapedefaults": {
           "line": {
            "color": "#2a3f5f"
           }
          },
          "ternary": {
           "aaxis": {
            "gridcolor": "white",
            "linecolor": "white",
            "ticks": ""
           },
           "baxis": {
            "gridcolor": "white",
            "linecolor": "white",
            "ticks": ""
           },
           "bgcolor": "#E5ECF6",
           "caxis": {
            "gridcolor": "white",
            "linecolor": "white",
            "ticks": ""
           }
          },
          "title": {
           "x": 0.05
          },
          "xaxis": {
           "automargin": true,
           "gridcolor": "white",
           "linecolor": "white",
           "ticks": "",
           "title": {
            "standoff": 15
           },
           "zerolinecolor": "white",
           "zerolinewidth": 2
          },
          "yaxis": {
           "automargin": true,
           "gridcolor": "white",
           "linecolor": "white",
           "ticks": "",
           "title": {
            "standoff": 15
           },
           "zerolinecolor": "white",
           "zerolinewidth": 2
          }
         }
        },
        "title": {
         "text": "Correlation between our portfolio stocks"
        },
        "xaxis": {
         "anchor": "y",
         "autorange": true,
         "constrain": "domain",
         "domain": [
          0.3343558282208589,
          0.665644171779141
         ],
         "range": [
          -0.5,
          4.5
         ],
         "scaleanchor": "y",
         "title": {
          "text": "Ticker"
         },
         "type": "category"
        },
        "yaxis": {
         "anchor": "x",
         "autorange": true,
         "constrain": "domain",
         "domain": [
          0,
          1
         ],
         "range": [
          4.5,
          -0.5
         ],
         "title": {
          "text": "Ticker"
         },
         "type": "category"
        }
       }
      },
      "text/html": [
       "<div>                            <div id=\"8e7958f0-907b-4c66-b04d-a616b4ef9731\" class=\"plotly-graph-div\" style=\"height:525px; width:100%;\"></div>            <script type=\"text/javascript\">                require([\"plotly\"], function(Plotly) {                    window.PLOTLYENV=window.PLOTLYENV || {};                                    if (document.getElementById(\"8e7958f0-907b-4c66-b04d-a616b4ef9731\")) {                    Plotly.newPlot(                        \"8e7958f0-907b-4c66-b04d-a616b4ef9731\",                        [{\"coloraxis\":\"coloraxis\",\"name\":\"0\",\"texttemplate\":\"%{z}\",\"x\":[\"AMZN\",\"BCH\",\"BTO\",\"FICO\",\"RUA\"],\"y\":[\"AMZN\",\"BCH\",\"BTO\",\"FICO\",\"RUA\"],\"z\":[[1.0,0.26,0.32,0.38,0.56],[0.26,1.0,0.44,0.4,0.53],[0.32,0.44,1.0,0.52,0.71],[0.38,0.4,0.52,1.0,0.7],[0.56,0.53,0.71,0.7,1.0]],\"type\":\"heatmap\",\"xaxis\":\"x\",\"yaxis\":\"y\",\"hovertemplate\":\"Ticker: %{x}<br>Ticker: %{y}<br>color: %{z}<extra></extra>\"}],                        {\"template\":{\"data\":{\"histogram2dcontour\":[{\"type\":\"histogram2dcontour\",\"colorbar\":{\"outlinewidth\":0,\"ticks\":\"\"},\"colorscale\":[[0.0,\"#0d0887\"],[0.1111111111111111,\"#46039f\"],[0.2222222222222222,\"#7201a8\"],[0.3333333333333333,\"#9c179e\"],[0.4444444444444444,\"#bd3786\"],[0.5555555555555556,\"#d8576b\"],[0.6666666666666666,\"#ed7953\"],[0.7777777777777778,\"#fb9f3a\"],[0.8888888888888888,\"#fdca26\"],[1.0,\"#f0f921\"]]}],\"choropleth\":[{\"type\":\"choropleth\",\"colorbar\":{\"outlinewidth\":0,\"ticks\":\"\"}}],\"histogram2d\":[{\"type\":\"histogram2d\",\"colorbar\":{\"outlinewidth\":0,\"ticks\":\"\"},\"colorscale\":[[0.0,\"#0d0887\"],[0.1111111111111111,\"#46039f\"],[0.2222222222222222,\"#7201a8\"],[0.3333333333333333,\"#9c179e\"],[0.4444444444444444,\"#bd3786\"],[0.5555555555555556,\"#d8576b\"],[0.6666666666666666,\"#ed7953\"],[0.7777777777777778,\"#fb9f3a\"],[0.8888888888888888,\"#fdca26\"],[1.0,\"#f0f921\"]]}],\"heatmap\":[{\"type\":\"heatmap\",\"colorbar\":{\"outlinewidth\":0,\"ticks\":\"\"},\"colorscale\":[[0.0,\"#0d0887\"],[0.1111111111111111,\"#46039f\"],[0.2222222222222222,\"#7201a8\"],[0.3333333333333333,\"#9c179e\"],[0.4444444444444444,\"#bd3786\"],[0.5555555555555556,\"#d8576b\"],[0.6666666666666666,\"#ed7953\"],[0.7777777777777778,\"#fb9f3a\"],[0.8888888888888888,\"#fdca26\"],[1.0,\"#f0f921\"]]}],\"heatmapgl\":[{\"type\":\"heatmapgl\",\"colorbar\":{\"outlinewidth\":0,\"ticks\":\"\"},\"colorscale\":[[0.0,\"#0d0887\"],[0.1111111111111111,\"#46039f\"],[0.2222222222222222,\"#7201a8\"],[0.3333333333333333,\"#9c179e\"],[0.4444444444444444,\"#bd3786\"],[0.5555555555555556,\"#d8576b\"],[0.6666666666666666,\"#ed7953\"],[0.7777777777777778,\"#fb9f3a\"],[0.8888888888888888,\"#fdca26\"],[1.0,\"#f0f921\"]]}],\"contourcarpet\":[{\"type\":\"contourcarpet\",\"colorbar\":{\"outlinewidth\":0,\"ticks\":\"\"}}],\"contour\":[{\"type\":\"contour\",\"colorbar\":{\"outlinewidth\":0,\"ticks\":\"\"},\"colorscale\":[[0.0,\"#0d0887\"],[0.1111111111111111,\"#46039f\"],[0.2222222222222222,\"#7201a8\"],[0.3333333333333333,\"#9c179e\"],[0.4444444444444444,\"#bd3786\"],[0.5555555555555556,\"#d8576b\"],[0.6666666666666666,\"#ed7953\"],[0.7777777777777778,\"#fb9f3a\"],[0.8888888888888888,\"#fdca26\"],[1.0,\"#f0f921\"]]}],\"surface\":[{\"type\":\"surface\",\"colorbar\":{\"outlinewidth\":0,\"ticks\":\"\"},\"colorscale\":[[0.0,\"#0d0887\"],[0.1111111111111111,\"#46039f\"],[0.2222222222222222,\"#7201a8\"],[0.3333333333333333,\"#9c179e\"],[0.4444444444444444,\"#bd3786\"],[0.5555555555555556,\"#d8576b\"],[0.6666666666666666,\"#ed7953\"],[0.7777777777777778,\"#fb9f3a\"],[0.8888888888888888,\"#fdca26\"],[1.0,\"#f0f921\"]]}],\"mesh3d\":[{\"type\":\"mesh3d\",\"colorbar\":{\"outlinewidth\":0,\"ticks\":\"\"}}],\"scatter\":[{\"fillpattern\":{\"fillmode\":\"overlay\",\"size\":10,\"solidity\":0.2},\"type\":\"scatter\"}],\"parcoords\":[{\"type\":\"parcoords\",\"line\":{\"colorbar\":{\"outlinewidth\":0,\"ticks\":\"\"}}}],\"scatterpolargl\":[{\"type\":\"scatterpolargl\",\"marker\":{\"colorbar\":{\"outlinewidth\":0,\"ticks\":\"\"}}}],\"bar\":[{\"error_x\":{\"color\":\"#2a3f5f\"},\"error_y\":{\"color\":\"#2a3f5f\"},\"marker\":{\"line\":{\"color\":\"#E5ECF6\",\"width\":0.5},\"pattern\":{\"fillmode\":\"overlay\",\"size\":10,\"solidity\":0.2}},\"type\":\"bar\"}],\"scattergeo\":[{\"type\":\"scattergeo\",\"marker\":{\"colorbar\":{\"outlinewidth\":0,\"ticks\":\"\"}}}],\"scatterpolar\":[{\"type\":\"scatterpolar\",\"marker\":{\"colorbar\":{\"outlinewidth\":0,\"ticks\":\"\"}}}],\"histogram\":[{\"marker\":{\"pattern\":{\"fillmode\":\"overlay\",\"size\":10,\"solidity\":0.2}},\"type\":\"histogram\"}],\"scattergl\":[{\"type\":\"scattergl\",\"marker\":{\"colorbar\":{\"outlinewidth\":0,\"ticks\":\"\"}}}],\"scatter3d\":[{\"type\":\"scatter3d\",\"line\":{\"colorbar\":{\"outlinewidth\":0,\"ticks\":\"\"}},\"marker\":{\"colorbar\":{\"outlinewidth\":0,\"ticks\":\"\"}}}],\"scattermapbox\":[{\"type\":\"scattermapbox\",\"marker\":{\"colorbar\":{\"outlinewidth\":0,\"ticks\":\"\"}}}],\"scatterternary\":[{\"type\":\"scatterternary\",\"marker\":{\"colorbar\":{\"outlinewidth\":0,\"ticks\":\"\"}}}],\"scattercarpet\":[{\"type\":\"scattercarpet\",\"marker\":{\"colorbar\":{\"outlinewidth\":0,\"ticks\":\"\"}}}],\"carpet\":[{\"aaxis\":{\"endlinecolor\":\"#2a3f5f\",\"gridcolor\":\"white\",\"linecolor\":\"white\",\"minorgridcolor\":\"white\",\"startlinecolor\":\"#2a3f5f\"},\"baxis\":{\"endlinecolor\":\"#2a3f5f\",\"gridcolor\":\"white\",\"linecolor\":\"white\",\"minorgridcolor\":\"white\",\"startlinecolor\":\"#2a3f5f\"},\"type\":\"carpet\"}],\"table\":[{\"cells\":{\"fill\":{\"color\":\"#EBF0F8\"},\"line\":{\"color\":\"white\"}},\"header\":{\"fill\":{\"color\":\"#C8D4E3\"},\"line\":{\"color\":\"white\"}},\"type\":\"table\"}],\"barpolar\":[{\"marker\":{\"line\":{\"color\":\"#E5ECF6\",\"width\":0.5},\"pattern\":{\"fillmode\":\"overlay\",\"size\":10,\"solidity\":0.2}},\"type\":\"barpolar\"}],\"pie\":[{\"automargin\":true,\"type\":\"pie\"}]},\"layout\":{\"autotypenumbers\":\"strict\",\"colorway\":[\"#636efa\",\"#EF553B\",\"#00cc96\",\"#ab63fa\",\"#FFA15A\",\"#19d3f3\",\"#FF6692\",\"#B6E880\",\"#FF97FF\",\"#FECB52\"],\"font\":{\"color\":\"#2a3f5f\"},\"hovermode\":\"closest\",\"hoverlabel\":{\"align\":\"left\"},\"paper_bgcolor\":\"white\",\"plot_bgcolor\":\"#E5ECF6\",\"polar\":{\"bgcolor\":\"#E5ECF6\",\"angularaxis\":{\"gridcolor\":\"white\",\"linecolor\":\"white\",\"ticks\":\"\"},\"radialaxis\":{\"gridcolor\":\"white\",\"linecolor\":\"white\",\"ticks\":\"\"}},\"ternary\":{\"bgcolor\":\"#E5ECF6\",\"aaxis\":{\"gridcolor\":\"white\",\"linecolor\":\"white\",\"ticks\":\"\"},\"baxis\":{\"gridcolor\":\"white\",\"linecolor\":\"white\",\"ticks\":\"\"},\"caxis\":{\"gridcolor\":\"white\",\"linecolor\":\"white\",\"ticks\":\"\"}},\"coloraxis\":{\"colorbar\":{\"outlinewidth\":0,\"ticks\":\"\"}},\"colorscale\":{\"sequential\":[[0.0,\"#0d0887\"],[0.1111111111111111,\"#46039f\"],[0.2222222222222222,\"#7201a8\"],[0.3333333333333333,\"#9c179e\"],[0.4444444444444444,\"#bd3786\"],[0.5555555555555556,\"#d8576b\"],[0.6666666666666666,\"#ed7953\"],[0.7777777777777778,\"#fb9f3a\"],[0.8888888888888888,\"#fdca26\"],[1.0,\"#f0f921\"]],\"sequentialminus\":[[0.0,\"#0d0887\"],[0.1111111111111111,\"#46039f\"],[0.2222222222222222,\"#7201a8\"],[0.3333333333333333,\"#9c179e\"],[0.4444444444444444,\"#bd3786\"],[0.5555555555555556,\"#d8576b\"],[0.6666666666666666,\"#ed7953\"],[0.7777777777777778,\"#fb9f3a\"],[0.8888888888888888,\"#fdca26\"],[1.0,\"#f0f921\"]],\"diverging\":[[0,\"#8e0152\"],[0.1,\"#c51b7d\"],[0.2,\"#de77ae\"],[0.3,\"#f1b6da\"],[0.4,\"#fde0ef\"],[0.5,\"#f7f7f7\"],[0.6,\"#e6f5d0\"],[0.7,\"#b8e186\"],[0.8,\"#7fbc41\"],[0.9,\"#4d9221\"],[1,\"#276419\"]]},\"xaxis\":{\"gridcolor\":\"white\",\"linecolor\":\"white\",\"ticks\":\"\",\"title\":{\"standoff\":15},\"zerolinecolor\":\"white\",\"automargin\":true,\"zerolinewidth\":2},\"yaxis\":{\"gridcolor\":\"white\",\"linecolor\":\"white\",\"ticks\":\"\",\"title\":{\"standoff\":15},\"zerolinecolor\":\"white\",\"automargin\":true,\"zerolinewidth\":2},\"scene\":{\"xaxis\":{\"backgroundcolor\":\"#E5ECF6\",\"gridcolor\":\"white\",\"linecolor\":\"white\",\"showbackground\":true,\"ticks\":\"\",\"zerolinecolor\":\"white\",\"gridwidth\":2},\"yaxis\":{\"backgroundcolor\":\"#E5ECF6\",\"gridcolor\":\"white\",\"linecolor\":\"white\",\"showbackground\":true,\"ticks\":\"\",\"zerolinecolor\":\"white\",\"gridwidth\":2},\"zaxis\":{\"backgroundcolor\":\"#E5ECF6\",\"gridcolor\":\"white\",\"linecolor\":\"white\",\"showbackground\":true,\"ticks\":\"\",\"zerolinecolor\":\"white\",\"gridwidth\":2}},\"shapedefaults\":{\"line\":{\"color\":\"#2a3f5f\"}},\"annotationdefaults\":{\"arrowcolor\":\"#2a3f5f\",\"arrowhead\":0,\"arrowwidth\":1},\"geo\":{\"bgcolor\":\"white\",\"landcolor\":\"#E5ECF6\",\"subunitcolor\":\"white\",\"showland\":true,\"showlakes\":true,\"lakecolor\":\"white\"},\"title\":{\"x\":0.05},\"mapbox\":{\"style\":\"light\"}}},\"xaxis\":{\"anchor\":\"y\",\"domain\":[0.0,1.0],\"scaleanchor\":\"y\",\"constrain\":\"domain\",\"title\":{\"text\":\"Ticker\"}},\"yaxis\":{\"anchor\":\"x\",\"domain\":[0.0,1.0],\"autorange\":\"reversed\",\"constrain\":\"domain\",\"title\":{\"text\":\"Ticker\"}},\"coloraxis\":{\"colorscale\":[[0.0,\"#0d0887\"],[0.1111111111111111,\"#46039f\"],[0.2222222222222222,\"#7201a8\"],[0.3333333333333333,\"#9c179e\"],[0.4444444444444444,\"#bd3786\"],[0.5555555555555556,\"#d8576b\"],[0.6666666666666666,\"#ed7953\"],[0.7777777777777778,\"#fb9f3a\"],[0.8888888888888888,\"#fdca26\"],[1.0,\"#f0f921\"]]},\"title\":{\"text\":\"Correlation between our portfolio stocks\"}},                        {\"responsive\": true}                    ).then(function(){\n",
       "                            \n",
       "var gd = document.getElementById('8e7958f0-907b-4c66-b04d-a616b4ef9731');\n",
       "var x = new MutationObserver(function (mutations, observer) {{\n",
       "        var display = window.getComputedStyle(gd).display;\n",
       "        if (!display || display === 'none') {{\n",
       "            console.log([gd, 'removed!']);\n",
       "            Plotly.purge(gd);\n",
       "            observer.disconnect();\n",
       "        }}\n",
       "}});\n",
       "\n",
       "// Listen for the removal of the full notebook cells\n",
       "var notebookContainer = gd.closest('#notebook-container');\n",
       "if (notebookContainer) {{\n",
       "    x.observe(notebookContainer, {childList: true});\n",
       "}}\n",
       "\n",
       "// Listen for the clearing of the current output cell\n",
       "var outputEl = gd.closest('.output');\n",
       "if (outputEl) {{\n",
       "    x.observe(outputEl, {childList: true});\n",
       "}}\n",
       "\n",
       "                        })                };                });            </script>        </div>"
      ]
     },
     "metadata": {},
     "output_type": "display_data"
    }
   ],
   "source": [
    "# Correlation Matrix between stocks and Russell 3000 ( with the market,it can be interpreted as beta also)\n",
    "\n",
    "stocks_mark = returns\n",
    "stocks_mark['RUA'] = mark_r\n",
    "corr_df = stocks_mark.corr().round(2) # round to 2 decimal places\n",
    "fig_corr = px.imshow(corr_df, text_auto=True, title = 'Correlation between our portfolio stocks')\n",
    "fig_corr.show()"
   ]
  },
  {
   "cell_type": "markdown",
   "id": "e32a720f",
   "metadata": {},
   "source": [
    "### CAPM"
   ]
  },
  {
   "cell_type": "markdown",
   "id": "51e0fdfc",
   "metadata": {},
   "source": [
    "Let's calculate the *CAPM* for each of the stocks of our future portforlio"
   ]
  },
  {
   "cell_type": "code",
   "execution_count": 8,
   "id": "8ddcf199",
   "metadata": {},
   "outputs": [
    {
     "name": "stderr",
     "output_type": "stream",
     "text": [
      "C:\\Users\\Usuario\\anaconda3\\lib\\site-packages\\pypfopt\\expected_returns.py:31: UserWarning:\n",
      "\n",
      "Some returns are NaN. Please check your price data.\n",
      "\n"
     ]
    },
    {
     "data": {
      "text/plain": [
       "AMZN    0.054662\n",
       "BCH     0.051713\n",
       "BTO     0.058041\n",
       "FICO    0.058736\n",
       "Name: mkt, dtype: float64"
      ]
     },
     "execution_count": 8,
     "metadata": {},
     "output_type": "execute_result"
    }
   ],
   "source": [
    "#  CAMP MODEL\n",
    "returns = returns.iloc[0:,:4]\n",
    "return1 = expected_returns.capm_return(returns, market_prices = mark_r, returns_data= True, risk_free_rate=(rf/100), frequency=252)\n",
    "return1 "
   ]
  },
  {
   "cell_type": "markdown",
   "id": "d8e18785",
   "metadata": {},
   "source": [
    "## Portfolio optimization"
   ]
  },
  {
   "cell_type": "markdown",
   "id": "814c83d1",
   "metadata": {},
   "source": [
    "For getting the best portfolio option we are going to use Monte carlo Simulation for considering all kind of scenarios the portfolio could has and Markovitz's portfolio model for selecting the optimal one."
   ]
  },
  {
   "cell_type": "markdown",
   "id": "78b51b33",
   "metadata": {},
   "source": [
    "### Monte Carlo Simulation"
   ]
  },
  {
   "cell_type": "code",
   "execution_count": 9,
   "id": "687c4fb5",
   "metadata": {},
   "outputs": [
    {
     "data": {
      "text/html": [
       "<div>\n",
       "<style scoped>\n",
       "    .dataframe tbody tr th:only-of-type {\n",
       "        vertical-align: middle;\n",
       "    }\n",
       "\n",
       "    .dataframe tbody tr th {\n",
       "        vertical-align: top;\n",
       "    }\n",
       "\n",
       "    .dataframe thead th {\n",
       "        text-align: right;\n",
       "    }\n",
       "</style>\n",
       "<table border=\"1\" class=\"dataframe\">\n",
       "  <thead>\n",
       "    <tr style=\"text-align: right;\">\n",
       "      <th></th>\n",
       "      <th>Returns</th>\n",
       "      <th>Volatilities</th>\n",
       "      <th>AMZN</th>\n",
       "      <th>BCH</th>\n",
       "      <th>BTO</th>\n",
       "      <th>FICO</th>\n",
       "    </tr>\n",
       "  </thead>\n",
       "  <tbody>\n",
       "    <tr>\n",
       "      <th>0</th>\n",
       "      <td>0.055254</td>\n",
       "      <td>0.013860</td>\n",
       "      <td>0.336501</td>\n",
       "      <td>0.266552</td>\n",
       "      <td>0.343702</td>\n",
       "      <td>0.053245</td>\n",
       "    </tr>\n",
       "    <tr>\n",
       "      <th>1</th>\n",
       "      <td>0.054496</td>\n",
       "      <td>0.014035</td>\n",
       "      <td>0.455074</td>\n",
       "      <td>0.336309</td>\n",
       "      <td>0.035240</td>\n",
       "      <td>0.173376</td>\n",
       "    </tr>\n",
       "    <tr>\n",
       "      <th>2</th>\n",
       "      <td>0.055011</td>\n",
       "      <td>0.013927</td>\n",
       "      <td>0.417294</td>\n",
       "      <td>0.276610</td>\n",
       "      <td>0.118922</td>\n",
       "      <td>0.187174</td>\n",
       "    </tr>\n",
       "    <tr>\n",
       "      <th>3</th>\n",
       "      <td>0.053962</td>\n",
       "      <td>0.013472</td>\n",
       "      <td>0.357103</td>\n",
       "      <td>0.457677</td>\n",
       "      <td>0.150825</td>\n",
       "      <td>0.034394</td>\n",
       "    </tr>\n",
       "    <tr>\n",
       "      <th>4</th>\n",
       "      <td>0.056072</td>\n",
       "      <td>0.014606</td>\n",
       "      <td>0.088259</td>\n",
       "      <td>0.282506</td>\n",
       "      <td>0.461145</td>\n",
       "      <td>0.168090</td>\n",
       "    </tr>\n",
       "    <tr>\n",
       "      <th>...</th>\n",
       "      <td>...</td>\n",
       "      <td>...</td>\n",
       "      <td>...</td>\n",
       "      <td>...</td>\n",
       "      <td>...</td>\n",
       "      <td>...</td>\n",
       "    </tr>\n",
       "    <tr>\n",
       "      <th>2995</th>\n",
       "      <td>0.055969</td>\n",
       "      <td>0.014559</td>\n",
       "      <td>0.073423</td>\n",
       "      <td>0.331079</td>\n",
       "      <td>0.204913</td>\n",
       "      <td>0.390585</td>\n",
       "    </tr>\n",
       "    <tr>\n",
       "      <th>2996</th>\n",
       "      <td>0.056246</td>\n",
       "      <td>0.014667</td>\n",
       "      <td>0.181636</td>\n",
       "      <td>0.234438</td>\n",
       "      <td>0.149664</td>\n",
       "      <td>0.434262</td>\n",
       "    </tr>\n",
       "    <tr>\n",
       "      <th>2997</th>\n",
       "      <td>0.055371</td>\n",
       "      <td>0.014381</td>\n",
       "      <td>0.427950</td>\n",
       "      <td>0.224484</td>\n",
       "      <td>0.065328</td>\n",
       "      <td>0.282238</td>\n",
       "    </tr>\n",
       "    <tr>\n",
       "      <th>2998</th>\n",
       "      <td>0.056611</td>\n",
       "      <td>0.015029</td>\n",
       "      <td>0.325134</td>\n",
       "      <td>0.096869</td>\n",
       "      <td>0.173195</td>\n",
       "      <td>0.404803</td>\n",
       "    </tr>\n",
       "    <tr>\n",
       "      <th>2999</th>\n",
       "      <td>0.055308</td>\n",
       "      <td>0.014238</td>\n",
       "      <td>0.433043</td>\n",
       "      <td>0.204328</td>\n",
       "      <td>0.329872</td>\n",
       "      <td>0.032757</td>\n",
       "    </tr>\n",
       "  </tbody>\n",
       "</table>\n",
       "<p>3000 rows × 6 columns</p>\n",
       "</div>"
      ],
      "text/plain": [
       "       Returns  Volatilities      AMZN       BCH       BTO      FICO\n",
       "0     0.055254      0.013860  0.336501  0.266552  0.343702  0.053245\n",
       "1     0.054496      0.014035  0.455074  0.336309  0.035240  0.173376\n",
       "2     0.055011      0.013927  0.417294  0.276610  0.118922  0.187174\n",
       "3     0.053962      0.013472  0.357103  0.457677  0.150825  0.034394\n",
       "4     0.056072      0.014606  0.088259  0.282506  0.461145  0.168090\n",
       "...        ...           ...       ...       ...       ...       ...\n",
       "2995  0.055969      0.014559  0.073423  0.331079  0.204913  0.390585\n",
       "2996  0.056246      0.014667  0.181636  0.234438  0.149664  0.434262\n",
       "2997  0.055371      0.014381  0.427950  0.224484  0.065328  0.282238\n",
       "2998  0.056611      0.015029  0.325134  0.096869  0.173195  0.404803\n",
       "2999  0.055308      0.014238  0.433043  0.204328  0.329872  0.032757\n",
       "\n",
       "[3000 rows x 6 columns]"
      ]
     },
     "execution_count": 9,
     "metadata": {},
     "output_type": "execute_result"
    }
   ],
   "source": [
    "# We create an empty dataframe that will have all the posible scenarios of the monte carlo simulation\n",
    "scenarios = pd.DataFrame(columns=['Returns', 'Volatilities', 'AMZN', 'BCH', 'BTO', 'FICO'])\n",
    "all_weights = [] # it will have all posible combination of stocks' weights \n",
    "portfolio_returns = []\n",
    "portfolio_volatilities = []\n",
    "for x in range(3000):\n",
    "    weights = np.random.random(4)\n",
    "    weights /= np.sum(weights)\n",
    "    all_weights.append(weights) \n",
    "    # we calculate the return and volatility for each portfolio\n",
    "    portfolio_returns.append(np.sum(weights @ return1)) \n",
    "    portfolio_volatilities.append(np.sqrt(np.dot(weights.T, np.dot(returns.cov(), weights))))\n",
    "\n",
    "# Then, we add returns, volatilities and weights for each portfolio to the dataframe\n",
    "all_weights1 = pd.DataFrame(all_weights)\n",
    "scenarios['Returns'] = portfolio_returns\n",
    "scenarios['Volatilities'] = portfolio_volatilities\n",
    "scenarios['AMZN'] = all_weights1[0]\n",
    "scenarios['BCH'] = all_weights1[1]\n",
    "scenarios['BTO'] = all_weights1[2]\n",
    "scenarios['FICO'] = all_weights1[3]\n",
    "portfolio_returns = np.array(portfolio_returns)\n",
    "portfolio_volatilities = np.array(portfolio_volatilities)\n",
    "                                  \n",
    "scenarios"
   ]
  },
  {
   "cell_type": "code",
   "execution_count": 10,
   "id": "5db01880",
   "metadata": {},
   "outputs": [],
   "source": [
    "# Creating a ticker list of the portfolio for future operations\n",
    "ticker = scenarios.iloc[:,2:].columns.values\n",
    "ticker_list = ('AMZN', 'BCH', 'BTO', 'FICO')"
   ]
  },
  {
   "cell_type": "markdown",
   "id": "c25c9214",
   "metadata": {},
   "source": [
    "### Markovitz's Model"
   ]
  },
  {
   "cell_type": "markdown",
   "id": "a31926aa",
   "metadata": {},
   "source": [
    "Markovitz's model state the optimal portfolio is the one with the best Return - Volatility relationship, known as Sharpe ratio . The highest the ratio, the more optimal it is. So, it defines a group of portfolios, the Efficient frontier, that suits with that condition and allows to select an optimal portfolio deciding the risk you want to face"
   ]
  },
  {
   "cell_type": "code",
   "execution_count": 11,
   "id": "0dd4c06a",
   "metadata": {},
   "outputs": [
    {
     "data": {
      "application/vnd.jupyter.widget-view+json": {
       "model_id": "601b9c1644a2448a944b19dda8373a46",
       "version_major": 2,
       "version_minor": 0
      },
      "text/plain": [
       "interactive(children=(Dropdown(description='Level of risk: ', index=1, options=('High', 'Low'), value='Low'), …"
      ]
     },
     "metadata": {},
     "output_type": "display_data"
    },
    {
     "data": {
      "text/plain": [
       "<function __main__.efficient_frontier(level_risk, sr=0)>"
      ]
     },
     "execution_count": 11,
     "metadata": {},
     "output_type": "execute_result"
    }
   ],
   "source": [
    "# First of all, we add the sharpe ratio to our portfolios.\n",
    "scenarios['sharpe ratio'] = (scenarios['Returns']-(rf/100))/(scenarios['Volatilities'])\n",
    "# Most Optimal portfolio according to Markovitz\n",
    "max_sharpe_ratio = scenarios[scenarios.index.isin([scenarios['sharpe ratio'].idxmax()])] \n",
    "\n",
    "# Calculating the efficient frontier \n",
    "def efficient_frontier(level_risk, sr = 0):\n",
    "    sc_filtered = scenarios[scenarios['sharpe ratio'] > 1.01] # we define 1.01 as the lowest value of the frontier.\n",
    "    \n",
    "#     Calculating optimal portfolio depending on the client risk profile \n",
    "\n",
    "    if level_risk == 'High': \n",
    "#        High risk means the highest return from the Efficient frontier, no matter the volatility\n",
    "        custom_risk = sc_filtered[sc_filtered.index.isin([sc_filtered['Returns'].idxmax()])] \n",
    "    else:\n",
    "#         Lowest volatility portfolio from the the Efficient Frontier\n",
    "        custom_risk = sc_filtered[sc_filtered.index.isin([sc_filtered['Volatilities'].idxmin()])]    \n",
    "    \n",
    "#     Now, We subject the selection of portfolios to the sharpe ratio\n",
    "    sc_filtered = scenarios[scenarios['sharpe ratio'] > sr]\n",
    "\n",
    "#     Definition of the interactive scatter plot\n",
    "    fig = go.Figure()\n",
    "    fig.add_trace(go.Scatter(x= sc_filtered['Volatilities'], \n",
    "                         y= sc_filtered['Returns'],\n",
    "                      #- Add color scale for sharpe ratio   \n",
    "                        marker=dict(color=((scenarios['Returns']-(rf/100))/(scenarios['Volatilities'])), # Sharpe ratio formula\n",
    "                                  showscale=True, \n",
    "                                  size=7,\n",
    "                                  line=dict(width=1),\n",
    "                                  colorscale= 'rdbu',\n",
    "                                  colorbar=dict(title=\"Sharpe<br>Ratio\")\n",
    "                                 ), \n",
    "                      mode='markers', \n",
    "                         text= ['Stocks: ' + str(np.array(ticker_list)) + '<br>' +\"Weights: \" + str(np.array(all_weights[i]).round(2)) for i in range(len(scenarios))],\n",
    "                            name = 'Portfolio options',showlegend=False))\n",
    "    \n",
    "# Adding the Max Sharpe ratio  \n",
    "    fig.add_trace(go.Scatter(x = max_sharpe_ratio['Volatilities'],\n",
    "                         y = max_sharpe_ratio['Returns'], \n",
    "                         marker = dict(color =  'Crimson', size = 13,line=dict(width=1), symbol = '213'),\n",
    "                        mode= 'markers',\n",
    "                        text= ['Stocks: ' + str(np.array(ticker_list)) + '<br>' +\"Weights: \" + str(np.array(all_weights[i]).round(2)) for i in range(len(scenarios))],\n",
    "                            name = 'Max Sharpe ratio'))\n",
    "\n",
    "# Adding the Customzed portfolio\n",
    "    fig.add_trace(go.Scatter(x = custom_risk['Volatilities'],\n",
    "                         y = custom_risk['Returns'], \n",
    "                         marker = dict(color =  'Yellow', size = 13,line=dict(width=1), symbol = '213'),\n",
    "                        mode= 'markers',\n",
    "                        text= ['Stocks: ' + str(np.array(ticker_list)) + '<br>' +\"Weights: \" + str(np.array(all_weights[i]).round(2)) for i in range(len(scenarios))],\n",
    "                            name = 'Customized portfolio', legendrank = 0))\n",
    "\n",
    "    \n",
    "    #- Add title and legends\n",
    "\n",
    "    fig.update_layout(template='plotly_white',\n",
    "                  xaxis=dict(title='Annualised Risk (Volatility)'),\n",
    "                  yaxis=dict(title='Annualised Return'),\n",
    "                  title='Sample of Random Portfolios',\n",
    "                  width=850,\n",
    "                  height=500)\n",
    "    \n",
    "    fig.update_layout(legend=dict(\n",
    "    yanchor=\"top\",\n",
    "    y=0.99,\n",
    "    xanchor=\"left\",\n",
    "    x=0.01\n",
    "))\n",
    "    \n",
    "    fig.show()\n",
    "    \n",
    "# We implement the efficient frontier function with interactivity, so the client can define it's own Efficient Frontier and \n",
    "# risk profile\n",
    "\n",
    "widgets.interact(efficient_frontier, level_risk = widgets.Dropdown(options=['High', 'Low'],\n",
    "                                                    value='Low',\n",
    "                                                    description = 'Level of risk: '),\n",
    "                                        sr = widgets.FloatSlider(value= 0,\n",
    "                                        min=0,\n",
    "                                        max=1.035,\n",
    "                                        step=0.005,\n",
    "                                        description='Sharpe Ratio: ' ))\n"
   ]
  },
  {
   "cell_type": "markdown",
   "id": "31f96a26",
   "metadata": {},
   "source": [
    "CAPM doesn't take into account fundamental analysis or dividens, hence, it may happens the client considers the expected return isn't well-defined at all, and wants to set a specific position of one of the portfolio's stocks. So, we offer him the possibility of calculating the optimal porfolio for the rest of the companies."
   ]
  },
  {
   "cell_type": "code",
   "execution_count": 12,
   "id": "4217fad6",
   "metadata": {},
   "outputs": [
    {
     "name": "stdout",
     "output_type": "stream",
     "text": [
      "Select your stock: from ('AMZN', 'BCH', 'BTO', 'FICO') AMZN\n"
     ]
    },
    {
     "data": {
      "application/vnd.jupyter.widget-view+json": {
       "model_id": "4de32d46f5244c798057841d9aff6178",
       "version_major": 2,
       "version_minor": 0
      },
      "text/plain": [
       "interactive(children=(Dropdown(description='Weight: ', options=(0.4046593701668576, 0.40398672891964554, 0.402…"
      ]
     },
     "metadata": {},
     "output_type": "display_data"
    },
    {
     "data": {
      "text/plain": [
       "<function __main__.port(w)>"
      ]
     },
     "execution_count": 12,
     "metadata": {},
     "output_type": "execute_result"
    }
   ],
   "source": [
    "stock = input(f'Select your stock: from {ticker_list} ' ) # allowing clients to define their stock\n",
    "\n",
    "\n",
    "p1 = scenarios[(scenarios['sharpe ratio'] > 1.01)] # we just want optimal portfolios\n",
    "option = p1[stock].sort_values(ascending = False).unique() # optimal portfolio weights of the stock selected.\n",
    "\n",
    "# portfolio function\n",
    "def port(w):\n",
    "    \n",
    "    # expected return and volatility of the portfolio \n",
    "    p = scenarios[(scenarios['sharpe ratio'] > 1.01) & (scenarios[stock] == w)] # Filtering by the wanted weight\n",
    "    expected_r = p1['Returns'][p1[stock] == w].values \n",
    "    expected_v = p1['Volatilities'][p1[stock] == w].values\n",
    "    \n",
    "    fig2 = go.Figure()\n",
    "    fig2.add_traces(go.Pie(values= p[p.columns[2:6]].values.round(4).tolist()[0],labels = np.array(ticker_list),))\n",
    "    \n",
    "    print(f' The expected return of the portfolio is {(expected_r[0].round(4))*100}% and the expected volatility of the portfolio is {(expected_v[0].round(4))*100}%')\n",
    "\n",
    "    fig2.update_layout(template='plotly_white',\n",
    "              title= f'Customized Portfolio for a {round((w *100),2)}% in {stock} ',\n",
    "              width=850,\n",
    "              height=500)\n",
    "    fig2.show()\n",
    "\n",
    "# Dropdown with the all the weights of the stock chosen that drive into an optimal portfolio. \n",
    "widgets.interact(port,w= widgets.Dropdown(options= option,\n",
    "description = 'Weight: '))"
   ]
  }
 ],
 "metadata": {
  "kernelspec": {
   "display_name": "Python 3 (ipykernel)",
   "language": "python",
   "name": "python3"
  },
  "language_info": {
   "codemirror_mode": {
    "name": "ipython",
    "version": 3
   },
   "file_extension": ".py",
   "mimetype": "text/x-python",
   "name": "python",
   "nbconvert_exporter": "python",
   "pygments_lexer": "ipython3",
   "version": "3.9.12"
  }
 },
 "nbformat": 4,
 "nbformat_minor": 5
}

{
 "cells": [
  {
   "cell_type": "markdown",
   "id": "9de76e5c",
   "metadata": {},
   "source": [
    "# Proyecto final"
   ]
  },
  {
   "cell_type": "markdown",
   "id": "bf880701",
   "metadata": {},
   "source": [
    "## Ciencia de Datos Aplicada"
   ]
  },
  {
   "cell_type": "markdown",
   "id": "027ad3ea",
   "metadata": {},
   "source": [
    "Este notebook será utilizado para el proyecto final del curso."
   ]
  },
  {
   "cell_type": "code",
   "execution_count": 1,
   "id": "ec25bcd3",
   "metadata": {},
   "outputs": [],
   "source": [
    "import pandas as pd\n",
    "import numpy as np"
   ]
  },
  {
   "cell_type": "code",
   "execution_count": 2,
   "id": "5420d05c",
   "metadata": {},
   "outputs": [
    {
     "name": "stdout",
     "output_type": "stream",
     "text": [
      "¡Hola, Proyecto Final del Curso!\n"
     ]
    }
   ],
   "source": [
    "print(\"¡Hola, Proyecto Final del Curso!\")"
   ]
  },
  {
   "cell_type": "code",
   "execution_count": null,
   "id": "69282d02",
   "metadata": {},
   "outputs": [],
   "source": []
  }
 ],
 "metadata": {
  "kernelspec": {
   "display_name": "Python 3 (ipykernel)",
   "language": "python",
   "name": "python3"
  },
  "language_info": {
   "codemirror_mode": {
    "name": "ipython",
    "version": 3
   },
   "file_extension": ".py",
   "mimetype": "text/x-python",
   "name": "python",
   "nbconvert_exporter": "python",
   "pygments_lexer": "ipython3",
   "version": "3.9.13"
  }
 },
 "nbformat": 4,
 "nbformat_minor": 5
}
